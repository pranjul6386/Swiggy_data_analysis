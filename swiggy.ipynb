{
  "nbformat": 4,
  "nbformat_minor": 0,
  "metadata": {
    "colab": {
      "name": "swiggy.ipynb",
      "provenance": [],
      "collapsed_sections": [],
      "include_colab_link": true
    },
    "kernelspec": {
      "name": "python3",
      "display_name": "Python 3"
    },
    "language_info": {
      "name": "python"
    }
  },
  "cells": [
    {
      "cell_type": "markdown",
      "metadata": {
        "id": "view-in-github",
        "colab_type": "text"
      },
      "source": [
        "<a href=\"https://colab.research.google.com/github/pranjul6386/Swiggy_data_analysis/blob/main/swiggy.ipynb\" target=\"_parent\"><img src=\"https://colab.research.google.com/assets/colab-badge.svg\" alt=\"Open In Colab\"/></a>"
      ]
    },
    {
      "cell_type": "code",
      "metadata": {
        "colab": {
          "base_uri": "https://localhost:8080/",
          "height": 17
        },
        "id": "KTfXGlelqQmn",
        "outputId": "5ee0fc72-83c6-4f20-a7b6-ff435c90a4ba"
      },
      "source": [
        "\n",
        "# Load in our libraries\n",
        "import pandas as pd\n",
        "import numpy as np \n",
        "import matplotlib.pyplot as plt\n",
        "import sklearn\n",
        "from sklearn import metrics\n",
        "from sklearn.model_selection import train_test_split\n",
        "from sklearn.preprocessing import LabelEncoder\n",
        "import keras\n",
        "import h5py\n",
        "from keras.models import Sequential\n",
        "from keras.layers import Dense,BatchNormalization,Dropout\n",
        "from tensorflow.keras.initializers import RandomNormal, Constant\n",
        "import pandas as pd\n",
        "import numpy as np\n",
        "import re\n",
        "import sklearn\n",
        "import xgboost as xgb\n",
        "import seaborn as sns\n",
        "import matplotlib.pyplot as plt\n",
        "%matplotlib inline\n",
        "import plotly.offline as py\n",
        "py.init_notebook_mode(connected=True)\n",
        "import plotly.graph_objs as go\n",
        "import plotly.tools as tls\n",
        "import warnings\n",
        "warnings.filterwarnings('ignore')\n",
        "\n",
        "# Going to use these 5 base models for the stacking\n",
        "from sklearn.ensemble import (RandomForestClassifier, AdaBoostClassifier, \n",
        "                              GradientBoostingClassifier, ExtraTreesClassifier)\n",
        "from sklearn.svm import SVC\n",
        "from sklearn.model_selection import KFold"
      ],
      "execution_count": 1,
      "outputs": [
        {
          "output_type": "display_data",
          "data": {
            "text/html": [
              "        <script type=\"text/javascript\">\n",
              "        window.PlotlyConfig = {MathJaxConfig: 'local'};\n",
              "        if (window.MathJax) {MathJax.Hub.Config({SVG: {font: \"STIX-Web\"}});}\n",
              "        if (typeof require !== 'undefined') {\n",
              "        require.undef(\"plotly\");\n",
              "        requirejs.config({\n",
              "            paths: {\n",
              "                'plotly': ['https://cdn.plot.ly/plotly-latest.min']\n",
              "            }\n",
              "        });\n",
              "        require(['plotly'], function(Plotly) {\n",
              "            window._Plotly = Plotly;\n",
              "        });\n",
              "        }\n",
              "        </script>\n",
              "        "
            ]
          },
          "metadata": {}
        }
      ]
    },
    {
      "cell_type": "code",
      "metadata": {
        "id": "QZhzT6DOqej2"
      },
      "source": [
        "#Load the two datsets using read_csv method of pandas\n",
        "df_assign=pd.read_csv(\"/content/drive/MyDrive/Datasets/Swiggy_data/Assignment_Data.csv\")\n",
        "df_partner=pd.read_csv(\"/content/drive/MyDrive/Datasets/Swiggy_data/Delivery_Partners_Data.csv\")"
      ],
      "execution_count": 5,
      "outputs": []
    },
    {
      "cell_type": "code",
      "metadata": {
        "colab": {
          "base_uri": "https://localhost:8080/",
          "height": 313
        },
        "id": "AyS8hFFjqwkc",
        "outputId": "82dd8932-f96e-452a-f208-90fc2057516e"
      },
      "source": [
        "\n",
        "df_assign.head()\n"
      ],
      "execution_count": 6,
      "outputs": [
        {
          "output_type": "execute_result",
          "data": {
            "text/html": [
              "<div>\n",
              "<style scoped>\n",
              "    .dataframe tbody tr th:only-of-type {\n",
              "        vertical-align: middle;\n",
              "    }\n",
              "\n",
              "    .dataframe tbody tr th {\n",
              "        vertical-align: top;\n",
              "    }\n",
              "\n",
              "    .dataframe thead th {\n",
              "        text-align: right;\n",
              "    }\n",
              "</style>\n",
              "<table border=\"1\" class=\"dataframe\">\n",
              "  <thead>\n",
              "    <tr style=\"text-align: right;\">\n",
              "      <th></th>\n",
              "      <th>ORDER_ID</th>\n",
              "      <th>DE_ID</th>\n",
              "      <th>ASSIGNMENT_START_TIME</th>\n",
              "      <th>ASSIGNMENT_END_TIME</th>\n",
              "      <th>reject_ind</th>\n",
              "      <th>reject_type</th>\n",
              "      <th>PLACED_TIME</th>\n",
              "      <th>DELIVERED_TIME</th>\n",
              "      <th>LASTMILE_DISTANCE</th>\n",
              "      <th>FIRSTMILE_DISTANCE</th>\n",
              "      <th>LAST_MILE_TIME_PREDICTED</th>\n",
              "      <th>PAYOUT_MADE_TO_DE</th>\n",
              "      <th>NUM_PING_COUNT_LAST10MIN</th>\n",
              "      <th>LAST_PING_TIME_LAST10MIN</th>\n",
              "      <th>CUSTOMER_ZONE</th>\n",
              "      <th>CUSTOMER_LAT</th>\n",
              "      <th>CUSTOMER_LNG</th>\n",
              "    </tr>\n",
              "  </thead>\n",
              "  <tbody>\n",
              "    <tr>\n",
              "      <th>0</th>\n",
              "      <td>2745</td>\n",
              "      <td>180976</td>\n",
              "      <td>2021-02-13 03:08:24.000</td>\n",
              "      <td>2021-02-13 03:38:26.000</td>\n",
              "      <td>0</td>\n",
              "      <td>NaN</td>\n",
              "      <td>2021-02-13 03:01:11.686</td>\n",
              "      <td>2021-02-13 03:43:26.000</td>\n",
              "      <td>320.9</td>\n",
              "      <td>320.0</td>\n",
              "      <td>314.0</td>\n",
              "      <td>1810.0</td>\n",
              "      <td>63</td>\n",
              "      <td>2021-02-13 03:07:34.000</td>\n",
              "      <td>373.0</td>\n",
              "      <td>37.377569</td>\n",
              "      <td>72.832560</td>\n",
              "    </tr>\n",
              "    <tr>\n",
              "      <th>1</th>\n",
              "      <td>9462</td>\n",
              "      <td>280243</td>\n",
              "      <td>2021-02-14 05:06:40.000</td>\n",
              "      <td>2021-02-14 05:31:04.000</td>\n",
              "      <td>0</td>\n",
              "      <td>NaN</td>\n",
              "      <td>2021-02-14 04:54:25.832</td>\n",
              "      <td>2021-02-14 05:36:04.000</td>\n",
              "      <td>516.8</td>\n",
              "      <td>342.5</td>\n",
              "      <td>451.0</td>\n",
              "      <td>3210.0</td>\n",
              "      <td>27</td>\n",
              "      <td>2021-02-14 05:06:40.000</td>\n",
              "      <td>373.0</td>\n",
              "      <td>37.380613</td>\n",
              "      <td>72.796909</td>\n",
              "    </tr>\n",
              "    <tr>\n",
              "      <th>2</th>\n",
              "      <td>14071</td>\n",
              "      <td>339813</td>\n",
              "      <td>2021-02-15 02:22:40.000</td>\n",
              "      <td>2021-02-15 02:44:02.000</td>\n",
              "      <td>0</td>\n",
              "      <td>NaN</td>\n",
              "      <td>2021-02-15 02:01:17.864</td>\n",
              "      <td>2021-02-15 02:49:02.000</td>\n",
              "      <td>459.5</td>\n",
              "      <td>418.7</td>\n",
              "      <td>443.0</td>\n",
              "      <td>2910.0</td>\n",
              "      <td>57</td>\n",
              "      <td>2021-02-15 02:22:35.000</td>\n",
              "      <td>373.0</td>\n",
              "      <td>37.372032</td>\n",
              "      <td>72.805871</td>\n",
              "    </tr>\n",
              "    <tr>\n",
              "      <th>3</th>\n",
              "      <td>14442</td>\n",
              "      <td>1315348</td>\n",
              "      <td>2021-02-15 03:01:25.000</td>\n",
              "      <td>2021-02-15 03:15:02.000</td>\n",
              "      <td>0</td>\n",
              "      <td>NaN</td>\n",
              "      <td>2021-02-15 02:43:41.129</td>\n",
              "      <td>2021-02-15 03:20:02.000</td>\n",
              "      <td>376.4</td>\n",
              "      <td>332.9</td>\n",
              "      <td>367.3</td>\n",
              "      <td>3210.0</td>\n",
              "      <td>41</td>\n",
              "      <td>2021-02-15 03:00:28.000</td>\n",
              "      <td>373.0</td>\n",
              "      <td>37.371380</td>\n",
              "      <td>72.819992</td>\n",
              "    </tr>\n",
              "    <tr>\n",
              "      <th>4</th>\n",
              "      <td>14515</td>\n",
              "      <td>1186729</td>\n",
              "      <td>2021-02-15 03:12:24.000</td>\n",
              "      <td>2021-02-15 03:50:24.000</td>\n",
              "      <td>0</td>\n",
              "      <td>NaN</td>\n",
              "      <td>2021-02-15 02:48:17.074</td>\n",
              "      <td>2021-02-15 03:55:24.000</td>\n",
              "      <td>414.5</td>\n",
              "      <td>334.1</td>\n",
              "      <td>413.2</td>\n",
              "      <td>3210.0</td>\n",
              "      <td>13</td>\n",
              "      <td>2021-02-15 03:12:09.000</td>\n",
              "      <td>373.0</td>\n",
              "      <td>37.369925</td>\n",
              "      <td>72.826764</td>\n",
              "    </tr>\n",
              "  </tbody>\n",
              "</table>\n",
              "</div>"
            ],
            "text/plain": [
              "   ORDER_ID    DE_ID  ... CUSTOMER_LAT CUSTOMER_LNG\n",
              "0      2745   180976  ...    37.377569    72.832560\n",
              "1      9462   280243  ...    37.380613    72.796909\n",
              "2     14071   339813  ...    37.372032    72.805871\n",
              "3     14442  1315348  ...    37.371380    72.819992\n",
              "4     14515  1186729  ...    37.369925    72.826764\n",
              "\n",
              "[5 rows x 17 columns]"
            ]
          },
          "metadata": {},
          "execution_count": 6
        }
      ]
    },
    {
      "cell_type": "code",
      "metadata": {
        "colab": {
          "base_uri": "https://localhost:8080/",
          "height": 206
        },
        "id": "QFMSGZdQq0Dh",
        "outputId": "b2e17850-8694-4a27-c752-9e6d51819c64"
      },
      "source": [
        "df_partner.head()"
      ],
      "execution_count": 7,
      "outputs": [
        {
          "output_type": "execute_result",
          "data": {
            "text/html": [
              "<div>\n",
              "<style scoped>\n",
              "    .dataframe tbody tr th:only-of-type {\n",
              "        vertical-align: middle;\n",
              "    }\n",
              "\n",
              "    .dataframe tbody tr th {\n",
              "        vertical-align: top;\n",
              "    }\n",
              "\n",
              "    .dataframe thead th {\n",
              "        text-align: right;\n",
              "    }\n",
              "</style>\n",
              "<table border=\"1\" class=\"dataframe\">\n",
              "  <thead>\n",
              "    <tr style=\"text-align: right;\">\n",
              "      <th></th>\n",
              "      <th>DE_ID</th>\n",
              "      <th>SHIFT_END_TIME</th>\n",
              "      <th>DE_HOME_LAT</th>\n",
              "      <th>DE_HOME_LNG</th>\n",
              "      <th>DE_JOINING_DATE</th>\n",
              "      <th>DE_ZONE_ID</th>\n",
              "    </tr>\n",
              "  </thead>\n",
              "  <tbody>\n",
              "    <tr>\n",
              "      <th>0</th>\n",
              "      <td>141533</td>\n",
              "      <td>06:42</td>\n",
              "      <td>37.390427</td>\n",
              "      <td>72.849424</td>\n",
              "      <td>2019-09-20</td>\n",
              "      <td>372</td>\n",
              "    </tr>\n",
              "    <tr>\n",
              "      <th>1</th>\n",
              "      <td>235942</td>\n",
              "      <td>08:42</td>\n",
              "      <td>37.372289</td>\n",
              "      <td>72.885341</td>\n",
              "      <td>2020-03-15</td>\n",
              "      <td>372</td>\n",
              "    </tr>\n",
              "    <tr>\n",
              "      <th>2</th>\n",
              "      <td>973234</td>\n",
              "      <td>06:42</td>\n",
              "      <td>37.410268</td>\n",
              "      <td>72.853610</td>\n",
              "      <td>2018-12-21</td>\n",
              "      <td>375</td>\n",
              "    </tr>\n",
              "    <tr>\n",
              "      <th>3</th>\n",
              "      <td>973473</td>\n",
              "      <td>05:42</td>\n",
              "      <td>37.397067</td>\n",
              "      <td>72.872533</td>\n",
              "      <td>2018-12-21</td>\n",
              "      <td>624</td>\n",
              "    </tr>\n",
              "    <tr>\n",
              "      <th>4</th>\n",
              "      <td>1016546</td>\n",
              "      <td>06:42</td>\n",
              "      <td>37.425545</td>\n",
              "      <td>72.895137</td>\n",
              "      <td>2019-01-11</td>\n",
              "      <td>668</td>\n",
              "    </tr>\n",
              "  </tbody>\n",
              "</table>\n",
              "</div>"
            ],
            "text/plain": [
              "     DE_ID SHIFT_END_TIME  DE_HOME_LAT  DE_HOME_LNG DE_JOINING_DATE  DE_ZONE_ID\n",
              "0   141533          06:42    37.390427    72.849424      2019-09-20         372\n",
              "1   235942          08:42    37.372289    72.885341      2020-03-15         372\n",
              "2   973234          06:42    37.410268    72.853610      2018-12-21         375\n",
              "3   973473          05:42    37.397067    72.872533      2018-12-21         624\n",
              "4  1016546          06:42    37.425545    72.895137      2019-01-11         668"
            ]
          },
          "metadata": {},
          "execution_count": 7
        }
      ]
    },
    {
      "cell_type": "code",
      "metadata": {
        "colab": {
          "base_uri": "https://localhost:8080/"
        },
        "id": "OCu9zTmQkc7O",
        "outputId": "bc72b169-a656-423b-ffbe-85c64768b563"
      },
      "source": [
        "#no null values in the de partner datset\n",
        "df_partner.isnull().sum()\n",
        "print(df_partner.shape)\n",
        "df_partner=df_partner.drop(['DE_JOINING_DATE'],axis=1)"
      ],
      "execution_count": 8,
      "outputs": [
        {
          "output_type": "stream",
          "name": "stdout",
          "text": [
            "(991, 6)\n"
          ]
        }
      ]
    },
    {
      "cell_type": "code",
      "metadata": {
        "colab": {
          "base_uri": "https://localhost:8080/",
          "height": 313
        },
        "id": "WFcW4S-CkuNF",
        "outputId": "dac17e1a-dab5-4939-d04a-964f2d07a558"
      },
      "source": [
        "#Inner join of two datasets on the common column \"DE_ID\"\n",
        "df_final = df_assign.merge(df_partner, on=\"DE_ID\", how = 'inner')\n",
        "df_final.head()"
      ],
      "execution_count": 9,
      "outputs": [
        {
          "output_type": "execute_result",
          "data": {
            "text/html": [
              "<div>\n",
              "<style scoped>\n",
              "    .dataframe tbody tr th:only-of-type {\n",
              "        vertical-align: middle;\n",
              "    }\n",
              "\n",
              "    .dataframe tbody tr th {\n",
              "        vertical-align: top;\n",
              "    }\n",
              "\n",
              "    .dataframe thead th {\n",
              "        text-align: right;\n",
              "    }\n",
              "</style>\n",
              "<table border=\"1\" class=\"dataframe\">\n",
              "  <thead>\n",
              "    <tr style=\"text-align: right;\">\n",
              "      <th></th>\n",
              "      <th>ORDER_ID</th>\n",
              "      <th>DE_ID</th>\n",
              "      <th>ASSIGNMENT_START_TIME</th>\n",
              "      <th>ASSIGNMENT_END_TIME</th>\n",
              "      <th>reject_ind</th>\n",
              "      <th>reject_type</th>\n",
              "      <th>PLACED_TIME</th>\n",
              "      <th>DELIVERED_TIME</th>\n",
              "      <th>LASTMILE_DISTANCE</th>\n",
              "      <th>FIRSTMILE_DISTANCE</th>\n",
              "      <th>LAST_MILE_TIME_PREDICTED</th>\n",
              "      <th>PAYOUT_MADE_TO_DE</th>\n",
              "      <th>NUM_PING_COUNT_LAST10MIN</th>\n",
              "      <th>LAST_PING_TIME_LAST10MIN</th>\n",
              "      <th>CUSTOMER_ZONE</th>\n",
              "      <th>CUSTOMER_LAT</th>\n",
              "      <th>CUSTOMER_LNG</th>\n",
              "      <th>SHIFT_END_TIME</th>\n",
              "      <th>DE_HOME_LAT</th>\n",
              "      <th>DE_HOME_LNG</th>\n",
              "      <th>DE_ZONE_ID</th>\n",
              "    </tr>\n",
              "  </thead>\n",
              "  <tbody>\n",
              "    <tr>\n",
              "      <th>0</th>\n",
              "      <td>2745</td>\n",
              "      <td>180976</td>\n",
              "      <td>2021-02-13 03:08:24.000</td>\n",
              "      <td>2021-02-13 03:38:26.000</td>\n",
              "      <td>0</td>\n",
              "      <td>NaN</td>\n",
              "      <td>2021-02-13 03:01:11.686</td>\n",
              "      <td>2021-02-13 03:43:26.000</td>\n",
              "      <td>320.9</td>\n",
              "      <td>320.0</td>\n",
              "      <td>314.0</td>\n",
              "      <td>1810.0</td>\n",
              "      <td>63</td>\n",
              "      <td>2021-02-13 03:07:34.000</td>\n",
              "      <td>373.0</td>\n",
              "      <td>37.377569</td>\n",
              "      <td>72.832560</td>\n",
              "      <td>05:42</td>\n",
              "      <td>37.374634</td>\n",
              "      <td>72.871986</td>\n",
              "      <td>373</td>\n",
              "    </tr>\n",
              "    <tr>\n",
              "      <th>1</th>\n",
              "      <td>14974</td>\n",
              "      <td>180976</td>\n",
              "      <td>2021-02-15 03:36:24.000</td>\n",
              "      <td>2021-02-15 03:54:31.000</td>\n",
              "      <td>0</td>\n",
              "      <td>NaN</td>\n",
              "      <td>2021-02-15 03:30:24.093</td>\n",
              "      <td>2021-02-15 03:59:31.000</td>\n",
              "      <td>370.4</td>\n",
              "      <td>414.5</td>\n",
              "      <td>378.2</td>\n",
              "      <td>3710.0</td>\n",
              "      <td>52</td>\n",
              "      <td>2021-02-15 03:36:19.000</td>\n",
              "      <td>373.0</td>\n",
              "      <td>37.368782</td>\n",
              "      <td>72.809458</td>\n",
              "      <td>05:42</td>\n",
              "      <td>37.374634</td>\n",
              "      <td>72.871986</td>\n",
              "      <td>373</td>\n",
              "    </tr>\n",
              "    <tr>\n",
              "      <th>2</th>\n",
              "      <td>115325</td>\n",
              "      <td>180976</td>\n",
              "      <td>2021-03-04 04:57:21.000</td>\n",
              "      <td>2021-03-04 05:23:19.000</td>\n",
              "      <td>0</td>\n",
              "      <td>NaN</td>\n",
              "      <td>2021-03-04 04:47:34.977</td>\n",
              "      <td>2021-03-04 05:28:19.000</td>\n",
              "      <td>408.2</td>\n",
              "      <td>320.0</td>\n",
              "      <td>397.2</td>\n",
              "      <td>2760.0</td>\n",
              "      <td>9</td>\n",
              "      <td>2021-03-04 04:56:33.000</td>\n",
              "      <td>373.0</td>\n",
              "      <td>37.374205</td>\n",
              "      <td>72.827956</td>\n",
              "      <td>05:42</td>\n",
              "      <td>37.374634</td>\n",
              "      <td>72.871986</td>\n",
              "      <td>373</td>\n",
              "    </tr>\n",
              "    <tr>\n",
              "      <th>3</th>\n",
              "      <td>1648</td>\n",
              "      <td>180976</td>\n",
              "      <td>2021-02-13 00:12:40.000</td>\n",
              "      <td>2021-02-13 01:02:36.000</td>\n",
              "      <td>0</td>\n",
              "      <td>NaN</td>\n",
              "      <td>2021-02-13 00:11:09.582</td>\n",
              "      <td>2021-02-13 01:07:36.000</td>\n",
              "      <td>389.6</td>\n",
              "      <td>342.8</td>\n",
              "      <td>382.5</td>\n",
              "      <td>2210.0</td>\n",
              "      <td>16</td>\n",
              "      <td>2021-02-13 00:12:27.000</td>\n",
              "      <td>373.0</td>\n",
              "      <td>37.369154</td>\n",
              "      <td>72.815318</td>\n",
              "      <td>05:42</td>\n",
              "      <td>37.374634</td>\n",
              "      <td>72.871986</td>\n",
              "      <td>373</td>\n",
              "    </tr>\n",
              "    <tr>\n",
              "      <th>4</th>\n",
              "      <td>72496</td>\n",
              "      <td>180976</td>\n",
              "      <td>2021-02-25 04:08:34.000</td>\n",
              "      <td>2021-02-25 04:30:31.000</td>\n",
              "      <td>0</td>\n",
              "      <td>NaN</td>\n",
              "      <td>2021-02-25 03:56:48.521</td>\n",
              "      <td>2021-02-25 04:35:31.000</td>\n",
              "      <td>392.3</td>\n",
              "      <td>418.1</td>\n",
              "      <td>351.3</td>\n",
              "      <td>2460.0</td>\n",
              "      <td>13</td>\n",
              "      <td>2021-02-25 04:07:58.000</td>\n",
              "      <td>373.0</td>\n",
              "      <td>37.376896</td>\n",
              "      <td>72.834044</td>\n",
              "      <td>05:42</td>\n",
              "      <td>37.374634</td>\n",
              "      <td>72.871986</td>\n",
              "      <td>373</td>\n",
              "    </tr>\n",
              "  </tbody>\n",
              "</table>\n",
              "</div>"
            ],
            "text/plain": [
              "   ORDER_ID   DE_ID  ... DE_HOME_LNG DE_ZONE_ID\n",
              "0      2745  180976  ...   72.871986        373\n",
              "1     14974  180976  ...   72.871986        373\n",
              "2    115325  180976  ...   72.871986        373\n",
              "3      1648  180976  ...   72.871986        373\n",
              "4     72496  180976  ...   72.871986        373\n",
              "\n",
              "[5 rows x 21 columns]"
            ]
          },
          "metadata": {},
          "execution_count": 9
        }
      ]
    },
    {
      "cell_type": "code",
      "metadata": {
        "id": "WT4sKHFdmFqE"
      },
      "source": [
        "#identifying the target variable\n",
        "target=df_final['reject_ind']\n",
        "df_final=df_final.drop(['reject_ind'],axis=1)"
      ],
      "execution_count": 10,
      "outputs": []
    },
    {
      "cell_type": "code",
      "metadata": {
        "colab": {
          "base_uri": "https://localhost:8080/",
          "height": 313
        },
        "id": "k-2URJJumosq",
        "outputId": "f7a094a7-bec0-47e2-891a-d68c799e47a6"
      },
      "source": [
        "df_final.head()"
      ],
      "execution_count": 11,
      "outputs": [
        {
          "output_type": "execute_result",
          "data": {
            "text/html": [
              "<div>\n",
              "<style scoped>\n",
              "    .dataframe tbody tr th:only-of-type {\n",
              "        vertical-align: middle;\n",
              "    }\n",
              "\n",
              "    .dataframe tbody tr th {\n",
              "        vertical-align: top;\n",
              "    }\n",
              "\n",
              "    .dataframe thead th {\n",
              "        text-align: right;\n",
              "    }\n",
              "</style>\n",
              "<table border=\"1\" class=\"dataframe\">\n",
              "  <thead>\n",
              "    <tr style=\"text-align: right;\">\n",
              "      <th></th>\n",
              "      <th>ORDER_ID</th>\n",
              "      <th>DE_ID</th>\n",
              "      <th>ASSIGNMENT_START_TIME</th>\n",
              "      <th>ASSIGNMENT_END_TIME</th>\n",
              "      <th>reject_type</th>\n",
              "      <th>PLACED_TIME</th>\n",
              "      <th>DELIVERED_TIME</th>\n",
              "      <th>LASTMILE_DISTANCE</th>\n",
              "      <th>FIRSTMILE_DISTANCE</th>\n",
              "      <th>LAST_MILE_TIME_PREDICTED</th>\n",
              "      <th>PAYOUT_MADE_TO_DE</th>\n",
              "      <th>NUM_PING_COUNT_LAST10MIN</th>\n",
              "      <th>LAST_PING_TIME_LAST10MIN</th>\n",
              "      <th>CUSTOMER_ZONE</th>\n",
              "      <th>CUSTOMER_LAT</th>\n",
              "      <th>CUSTOMER_LNG</th>\n",
              "      <th>SHIFT_END_TIME</th>\n",
              "      <th>DE_HOME_LAT</th>\n",
              "      <th>DE_HOME_LNG</th>\n",
              "      <th>DE_ZONE_ID</th>\n",
              "    </tr>\n",
              "  </thead>\n",
              "  <tbody>\n",
              "    <tr>\n",
              "      <th>0</th>\n",
              "      <td>2745</td>\n",
              "      <td>180976</td>\n",
              "      <td>2021-02-13 03:08:24.000</td>\n",
              "      <td>2021-02-13 03:38:26.000</td>\n",
              "      <td>NaN</td>\n",
              "      <td>2021-02-13 03:01:11.686</td>\n",
              "      <td>2021-02-13 03:43:26.000</td>\n",
              "      <td>320.9</td>\n",
              "      <td>320.0</td>\n",
              "      <td>314.0</td>\n",
              "      <td>1810.0</td>\n",
              "      <td>63</td>\n",
              "      <td>2021-02-13 03:07:34.000</td>\n",
              "      <td>373.0</td>\n",
              "      <td>37.377569</td>\n",
              "      <td>72.832560</td>\n",
              "      <td>05:42</td>\n",
              "      <td>37.374634</td>\n",
              "      <td>72.871986</td>\n",
              "      <td>373</td>\n",
              "    </tr>\n",
              "    <tr>\n",
              "      <th>1</th>\n",
              "      <td>14974</td>\n",
              "      <td>180976</td>\n",
              "      <td>2021-02-15 03:36:24.000</td>\n",
              "      <td>2021-02-15 03:54:31.000</td>\n",
              "      <td>NaN</td>\n",
              "      <td>2021-02-15 03:30:24.093</td>\n",
              "      <td>2021-02-15 03:59:31.000</td>\n",
              "      <td>370.4</td>\n",
              "      <td>414.5</td>\n",
              "      <td>378.2</td>\n",
              "      <td>3710.0</td>\n",
              "      <td>52</td>\n",
              "      <td>2021-02-15 03:36:19.000</td>\n",
              "      <td>373.0</td>\n",
              "      <td>37.368782</td>\n",
              "      <td>72.809458</td>\n",
              "      <td>05:42</td>\n",
              "      <td>37.374634</td>\n",
              "      <td>72.871986</td>\n",
              "      <td>373</td>\n",
              "    </tr>\n",
              "    <tr>\n",
              "      <th>2</th>\n",
              "      <td>115325</td>\n",
              "      <td>180976</td>\n",
              "      <td>2021-03-04 04:57:21.000</td>\n",
              "      <td>2021-03-04 05:23:19.000</td>\n",
              "      <td>NaN</td>\n",
              "      <td>2021-03-04 04:47:34.977</td>\n",
              "      <td>2021-03-04 05:28:19.000</td>\n",
              "      <td>408.2</td>\n",
              "      <td>320.0</td>\n",
              "      <td>397.2</td>\n",
              "      <td>2760.0</td>\n",
              "      <td>9</td>\n",
              "      <td>2021-03-04 04:56:33.000</td>\n",
              "      <td>373.0</td>\n",
              "      <td>37.374205</td>\n",
              "      <td>72.827956</td>\n",
              "      <td>05:42</td>\n",
              "      <td>37.374634</td>\n",
              "      <td>72.871986</td>\n",
              "      <td>373</td>\n",
              "    </tr>\n",
              "    <tr>\n",
              "      <th>3</th>\n",
              "      <td>1648</td>\n",
              "      <td>180976</td>\n",
              "      <td>2021-02-13 00:12:40.000</td>\n",
              "      <td>2021-02-13 01:02:36.000</td>\n",
              "      <td>NaN</td>\n",
              "      <td>2021-02-13 00:11:09.582</td>\n",
              "      <td>2021-02-13 01:07:36.000</td>\n",
              "      <td>389.6</td>\n",
              "      <td>342.8</td>\n",
              "      <td>382.5</td>\n",
              "      <td>2210.0</td>\n",
              "      <td>16</td>\n",
              "      <td>2021-02-13 00:12:27.000</td>\n",
              "      <td>373.0</td>\n",
              "      <td>37.369154</td>\n",
              "      <td>72.815318</td>\n",
              "      <td>05:42</td>\n",
              "      <td>37.374634</td>\n",
              "      <td>72.871986</td>\n",
              "      <td>373</td>\n",
              "    </tr>\n",
              "    <tr>\n",
              "      <th>4</th>\n",
              "      <td>72496</td>\n",
              "      <td>180976</td>\n",
              "      <td>2021-02-25 04:08:34.000</td>\n",
              "      <td>2021-02-25 04:30:31.000</td>\n",
              "      <td>NaN</td>\n",
              "      <td>2021-02-25 03:56:48.521</td>\n",
              "      <td>2021-02-25 04:35:31.000</td>\n",
              "      <td>392.3</td>\n",
              "      <td>418.1</td>\n",
              "      <td>351.3</td>\n",
              "      <td>2460.0</td>\n",
              "      <td>13</td>\n",
              "      <td>2021-02-25 04:07:58.000</td>\n",
              "      <td>373.0</td>\n",
              "      <td>37.376896</td>\n",
              "      <td>72.834044</td>\n",
              "      <td>05:42</td>\n",
              "      <td>37.374634</td>\n",
              "      <td>72.871986</td>\n",
              "      <td>373</td>\n",
              "    </tr>\n",
              "  </tbody>\n",
              "</table>\n",
              "</div>"
            ],
            "text/plain": [
              "   ORDER_ID   DE_ID  ... DE_HOME_LNG DE_ZONE_ID\n",
              "0      2745  180976  ...   72.871986        373\n",
              "1     14974  180976  ...   72.871986        373\n",
              "2    115325  180976  ...   72.871986        373\n",
              "3      1648  180976  ...   72.871986        373\n",
              "4     72496  180976  ...   72.871986        373\n",
              "\n",
              "[5 rows x 20 columns]"
            ]
          },
          "metadata": {},
          "execution_count": 11
        }
      ]
    },
    {
      "cell_type": "code",
      "metadata": {
        "colab": {
          "base_uri": "https://localhost:8080/"
        },
        "id": "CGua5DWUmuRM",
        "outputId": "7520153b-279c-4284-b972-f52fbd4fa278"
      },
      "source": [
        "#checking for null values\n",
        "df_final.isnull().sum()"
      ],
      "execution_count": 12,
      "outputs": [
        {
          "output_type": "execute_result",
          "data": {
            "text/plain": [
              "ORDER_ID                         0\n",
              "DE_ID                            0\n",
              "ASSIGNMENT_START_TIME            0\n",
              "ASSIGNMENT_END_TIME              0\n",
              "reject_type                 124346\n",
              "PLACED_TIME                      0\n",
              "DELIVERED_TIME                 612\n",
              "LASTMILE_DISTANCE               10\n",
              "FIRSTMILE_DISTANCE             156\n",
              "LAST_MILE_TIME_PREDICTED         0\n",
              "PAYOUT_MADE_TO_DE                3\n",
              "NUM_PING_COUNT_LAST10MIN         0\n",
              "LAST_PING_TIME_LAST10MIN         0\n",
              "CUSTOMER_ZONE                18541\n",
              "CUSTOMER_LAT                     0\n",
              "CUSTOMER_LNG                     0\n",
              "SHIFT_END_TIME                   0\n",
              "DE_HOME_LAT                      0\n",
              "DE_HOME_LNG                      0\n",
              "DE_ZONE_ID                       0\n",
              "dtype: int64"
            ]
          },
          "metadata": {},
          "execution_count": 12
        }
      ]
    },
    {
      "cell_type": "code",
      "metadata": {
        "id": "xDXMYiFbzuo2",
        "colab": {
          "base_uri": "https://localhost:8080/",
          "height": 200
        },
        "outputId": "46e1f29f-87c2-448c-8eeb-a5e4281a19c8"
      },
      "source": [
        "#filling the null values in Lastmile distance and firstmile distance\n",
        "df_final['LASTMILE_DISTANCE'].fillna(value=df_final['LASTMILE_DISTANCE'].mean(), inplace=True)\n",
        "df_final['FIRSTMILE_DISTANCE'].fillna(value=df_final['FIRSTMILE_DISTANCE'].mean(), inplace=True)"
      ],
      "execution_count": 3,
      "outputs": [
        {
          "output_type": "error",
          "ename": "NameError",
          "evalue": "ignored",
          "traceback": [
            "\u001b[0;31m---------------------------------------------------------------------------\u001b[0m",
            "\u001b[0;31mNameError\u001b[0m                                 Traceback (most recent call last)",
            "\u001b[0;32m<ipython-input-3-d308352dbf28>\u001b[0m in \u001b[0;36m<module>\u001b[0;34m()\u001b[0m\n\u001b[1;32m      1\u001b[0m \u001b[0;31m#filling the null values in Lastmile distance and firstmile distance\u001b[0m\u001b[0;34m\u001b[0m\u001b[0;34m\u001b[0m\u001b[0;34m\u001b[0m\u001b[0m\n\u001b[0;32m----> 2\u001b[0;31m \u001b[0mdf_final\u001b[0m\u001b[0;34m[\u001b[0m\u001b[0;34m'LASTMILE_DISTANCE'\u001b[0m\u001b[0;34m]\u001b[0m\u001b[0;34m.\u001b[0m\u001b[0mfillna\u001b[0m\u001b[0;34m(\u001b[0m\u001b[0mvalue\u001b[0m\u001b[0;34m=\u001b[0m\u001b[0mdf_final\u001b[0m\u001b[0;34m[\u001b[0m\u001b[0;34m'LASTMILE_DISTANCE'\u001b[0m\u001b[0;34m]\u001b[0m\u001b[0;34m.\u001b[0m\u001b[0mmean\u001b[0m\u001b[0;34m(\u001b[0m\u001b[0;34m)\u001b[0m\u001b[0;34m,\u001b[0m \u001b[0minplace\u001b[0m\u001b[0;34m=\u001b[0m\u001b[0;32mTrue\u001b[0m\u001b[0;34m)\u001b[0m\u001b[0;34m\u001b[0m\u001b[0;34m\u001b[0m\u001b[0m\n\u001b[0m\u001b[1;32m      3\u001b[0m \u001b[0mdf_final\u001b[0m\u001b[0;34m[\u001b[0m\u001b[0;34m'FIRSTMILE_DISTANCE'\u001b[0m\u001b[0;34m]\u001b[0m\u001b[0;34m.\u001b[0m\u001b[0mfillna\u001b[0m\u001b[0;34m(\u001b[0m\u001b[0mvalue\u001b[0m\u001b[0;34m=\u001b[0m\u001b[0mdf_final\u001b[0m\u001b[0;34m[\u001b[0m\u001b[0;34m'FIRSTMILE_DISTANCE'\u001b[0m\u001b[0;34m]\u001b[0m\u001b[0;34m.\u001b[0m\u001b[0mmean\u001b[0m\u001b[0;34m(\u001b[0m\u001b[0;34m)\u001b[0m\u001b[0;34m,\u001b[0m \u001b[0minplace\u001b[0m\u001b[0;34m=\u001b[0m\u001b[0;32mTrue\u001b[0m\u001b[0;34m)\u001b[0m\u001b[0;34m\u001b[0m\u001b[0;34m\u001b[0m\u001b[0m\n",
            "\u001b[0;31mNameError\u001b[0m: name 'df_final' is not defined"
          ]
        }
      ]
    },
    {
      "cell_type": "code",
      "metadata": {
        "colab": {
          "base_uri": "https://localhost:8080/",
          "height": 631
        },
        "id": "CmIhdfj83-l1",
        "outputId": "b4475981-dc89-4ef5-b54a-f03984f35d46"
      },
      "source": [
        "import seaborn as sns\n",
        "#Using Pearson Correlation\n",
        "plt.figure(figsize=(8,8))\n",
        "cor = df_final.corr()\n",
        "sns.heatmap(cor, annot=True, cmap=plt.cm.CMRmap_r)\n",
        "plt.show()"
      ],
      "execution_count": 14,
      "outputs": [
        {
          "output_type": "display_data",
          "data": {
            "image/png": "[encoded data removed]",
            "text/plain": [
              "<Figure size 576x576 with 2 Axes>"
            ]
          },
          "metadata": {
            "needs_background": "light"
          }
        }
      ]
    },
    {
      "cell_type": "code",
      "metadata": {
        "id": "cwHKRB1xnLWG"
      },
      "source": [
        "zone=df_final['CUSTOMER_ZONE']-df_final['DE_ZONE_ID']"
      ],
      "execution_count": null,
      "outputs": []
    },
    {
      "cell_type": "code",
      "metadata": {
        "colab": {
          "base_uri": "https://localhost:8080/"
        },
        "id": "9XfqlCuPuORJ",
        "outputId": "2b97e1b4-b695-4a11-cf6e-f0e4706f51de"
      },
      "source": [
        "df_final['CUSTOMER_ZONE'].value_counts()"
      ],
      "execution_count": null,
      "outputs": [
        {
          "output_type": "execute_result",
          "data": {
            "text/plain": [
              "375.0    26945\n",
              "372.0    20808\n",
              "624.0    17636\n",
              "373.0    14621\n",
              "841.0    14518\n",
              "374.0    12380\n",
              "668.0     6935\n",
              "382.0       10\n",
              "Name: CUSTOMER_ZONE, dtype: int64"
            ]
          },
          "metadata": {},
          "execution_count": 14
        }
      ]
    },
    {
      "cell_type": "code",
      "metadata": {
        "id": "l0mrqEGQihoO"
      },
      "source": [
        "#haversine distance between the partner and agent\n",
        "\n",
        "from math import radians, cos, sin, asin, sqrt\n",
        "def dist(lat1, long1, lat2, long2):\n",
        "    \"\"\"\n",
        "    Calculate the great circle distance between two points \n",
        "    on the earth (specified in decimal degrees)\n",
        "    \"\"\"\n",
        "    # convert decimal degrees to radians \n",
        "    lat1, long1, lat2, long2 = map(radians, [lat1, long1, lat2, long2])\n",
        "    # haversine formula \n",
        "    dlon = long2 - long1 \n",
        "    dlat = lat2 - lat1 \n",
        "    a = sin(dlat/2)**2 + cos(lat1) * cos(lat2) * sin(dlon/2)**2\n",
        "    c = 2 * asin(sqrt(a)) \n",
        "    # Radius of earth in kilometers is 6371\n",
        "    km = 6371* c\n",
        "    return km\n"
      ],
      "execution_count": null,
      "outputs": []
    },
    {
      "cell_type": "code",
      "metadata": {
        "id": "O-IXNpn5ik_U"
      },
      "source": [
        "for ind,row in df_final.iterrows():\n",
        "  lat1=row['CUSTOMER_LAT']\n",
        "  long1=row['CUSTOMER_LNG']\n",
        "  lat2=row['DE_HOME_LAT']\n",
        "  long2=row['DE_HOME_LNG']\n",
        "  df_final['distance']=dist(lat1,long1,lat2,long2)"
      ],
      "execution_count": null,
      "outputs": []
    },
    {
      "cell_type": "code",
      "metadata": {
        "colab": {
          "base_uri": "https://localhost:8080/",
          "height": 307
        },
        "id": "_YOoaStHj0b0",
        "outputId": "363f824c-1951-43eb-91d0-7675d6d06da0"
      },
      "source": [
        "df_final.head()"
      ],
      "execution_count": null,
      "outputs": [
        {
          "output_type": "execute_result",
          "data": {
            "text/html": [
              "<div>\n",
              "<style scoped>\n",
              "    .dataframe tbody tr th:only-of-type {\n",
              "        vertical-align: middle;\n",
              "    }\n",
              "\n",
              "    .dataframe tbody tr th {\n",
              "        vertical-align: top;\n",
              "    }\n",
              "\n",
              "    .dataframe thead th {\n",
              "        text-align: right;\n",
              "    }\n",
              "</style>\n",
              "<table border=\"1\" class=\"dataframe\">\n",
              "  <thead>\n",
              "    <tr style=\"text-align: right;\">\n",
              "      <th></th>\n",
              "      <th>ORDER_ID</th>\n",
              "      <th>DE_ID</th>\n",
              "      <th>ASSIGNMENT_START_TIME</th>\n",
              "      <th>ASSIGNMENT_END_TIME</th>\n",
              "      <th>reject_type</th>\n",
              "      <th>PLACED_TIME</th>\n",
              "      <th>DELIVERED_TIME</th>\n",
              "      <th>LASTMILE_DISTANCE</th>\n",
              "      <th>FIRSTMILE_DISTANCE</th>\n",
              "      <th>LAST_MILE_TIME_PREDICTED</th>\n",
              "      <th>PAYOUT_MADE_TO_DE</th>\n",
              "      <th>NUM_PING_COUNT_LAST10MIN</th>\n",
              "      <th>LAST_PING_TIME_LAST10MIN</th>\n",
              "      <th>CUSTOMER_ZONE</th>\n",
              "      <th>CUSTOMER_LAT</th>\n",
              "      <th>CUSTOMER_LNG</th>\n",
              "      <th>SHIFT_END_TIME</th>\n",
              "      <th>DE_HOME_LAT</th>\n",
              "      <th>DE_HOME_LNG</th>\n",
              "      <th>DE_ZONE_ID</th>\n",
              "      <th>distance</th>\n",
              "    </tr>\n",
              "  </thead>\n",
              "  <tbody>\n",
              "    <tr>\n",
              "      <th>0</th>\n",
              "      <td>2745</td>\n",
              "      <td>180976</td>\n",
              "      <td>2021-02-13 03:08:24.000</td>\n",
              "      <td>2021-02-13 03:38:26.000</td>\n",
              "      <td>NaN</td>\n",
              "      <td>2021-02-13 03:01:11.686</td>\n",
              "      <td>2021-02-13 03:43:26.000</td>\n",
              "      <td>320.9</td>\n",
              "      <td>320.0</td>\n",
              "      <td>314.0</td>\n",
              "      <td>1810.0</td>\n",
              "      <td>63</td>\n",
              "      <td>2021-02-13 03:07:34.000</td>\n",
              "      <td>373.0</td>\n",
              "      <td>37.377569</td>\n",
              "      <td>72.832560</td>\n",
              "      <td>05:42</td>\n",
              "      <td>37.374634</td>\n",
              "      <td>72.871986</td>\n",
              "      <td>373</td>\n",
              "      <td>2.044683</td>\n",
              "    </tr>\n",
              "    <tr>\n",
              "      <th>1</th>\n",
              "      <td>14974</td>\n",
              "      <td>180976</td>\n",
              "      <td>2021-02-15 03:36:24.000</td>\n",
              "      <td>2021-02-15 03:54:31.000</td>\n",
              "      <td>NaN</td>\n",
              "      <td>2021-02-15 03:30:24.093</td>\n",
              "      <td>2021-02-15 03:59:31.000</td>\n",
              "      <td>370.4</td>\n",
              "      <td>414.5</td>\n",
              "      <td>378.2</td>\n",
              "      <td>3710.0</td>\n",
              "      <td>52</td>\n",
              "      <td>2021-02-15 03:36:19.000</td>\n",
              "      <td>373.0</td>\n",
              "      <td>37.368782</td>\n",
              "      <td>72.809458</td>\n",
              "      <td>05:42</td>\n",
              "      <td>37.374634</td>\n",
              "      <td>72.871986</td>\n",
              "      <td>373</td>\n",
              "      <td>2.044683</td>\n",
              "    </tr>\n",
              "    <tr>\n",
              "      <th>2</th>\n",
              "      <td>115325</td>\n",
              "      <td>180976</td>\n",
              "      <td>2021-03-04 04:57:21.000</td>\n",
              "      <td>2021-03-04 05:23:19.000</td>\n",
              "      <td>NaN</td>\n",
              "      <td>2021-03-04 04:47:34.977</td>\n",
              "      <td>2021-03-04 05:28:19.000</td>\n",
              "      <td>408.2</td>\n",
              "      <td>320.0</td>\n",
              "      <td>397.2</td>\n",
              "      <td>2760.0</td>\n",
              "      <td>9</td>\n",
              "      <td>2021-03-04 04:56:33.000</td>\n",
              "      <td>373.0</td>\n",
              "      <td>37.374205</td>\n",
              "      <td>72.827956</td>\n",
              "      <td>05:42</td>\n",
              "      <td>37.374634</td>\n",
              "      <td>72.871986</td>\n",
              "      <td>373</td>\n",
              "      <td>2.044683</td>\n",
              "    </tr>\n",
              "    <tr>\n",
              "      <th>3</th>\n",
              "      <td>1648</td>\n",
              "      <td>180976</td>\n",
              "      <td>2021-02-13 00:12:40.000</td>\n",
              "      <td>2021-02-13 01:02:36.000</td>\n",
              "      <td>NaN</td>\n",
              "      <td>2021-02-13 00:11:09.582</td>\n",
              "      <td>2021-02-13 01:07:36.000</td>\n",
              "      <td>389.6</td>\n",
              "      <td>342.8</td>\n",
              "      <td>382.5</td>\n",
              "      <td>2210.0</td>\n",
              "      <td>16</td>\n",
              "      <td>2021-02-13 00:12:27.000</td>\n",
              "      <td>373.0</td>\n",
              "      <td>37.369154</td>\n",
              "      <td>72.815318</td>\n",
              "      <td>05:42</td>\n",
              "      <td>37.374634</td>\n",
              "      <td>72.871986</td>\n",
              "      <td>373</td>\n",
              "      <td>2.044683</td>\n",
              "    </tr>\n",
              "    <tr>\n",
              "      <th>4</th>\n",
              "      <td>72496</td>\n",
              "      <td>180976</td>\n",
              "      <td>2021-02-25 04:08:34.000</td>\n",
              "      <td>2021-02-25 04:30:31.000</td>\n",
              "      <td>NaN</td>\n",
              "      <td>2021-02-25 03:56:48.521</td>\n",
              "      <td>2021-02-25 04:35:31.000</td>\n",
              "      <td>392.3</td>\n",
              "      <td>418.1</td>\n",
              "      <td>351.3</td>\n",
              "      <td>2460.0</td>\n",
              "      <td>13</td>\n",
              "      <td>2021-02-25 04:07:58.000</td>\n",
              "      <td>373.0</td>\n",
              "      <td>37.376896</td>\n",
              "      <td>72.834044</td>\n",
              "      <td>05:42</td>\n",
              "      <td>37.374634</td>\n",
              "      <td>72.871986</td>\n",
              "      <td>373</td>\n",
              "      <td>2.044683</td>\n",
              "    </tr>\n",
              "  </tbody>\n",
              "</table>\n",
              "</div>"
            ],
            "text/plain": [
              "   ORDER_ID   DE_ID    ASSIGNMENT_START_TIME  ... DE_HOME_LNG DE_ZONE_ID  distance\n",
              "0      2745  180976  2021-02-13 03:08:24.000  ...   72.871986        373  2.044683\n",
              "1     14974  180976  2021-02-15 03:36:24.000  ...   72.871986        373  2.044683\n",
              "2    115325  180976  2021-03-04 04:57:21.000  ...   72.871986        373  2.044683\n",
              "3      1648  180976  2021-02-13 00:12:40.000  ...   72.871986        373  2.044683\n",
              "4     72496  180976  2021-02-25 04:08:34.000  ...   72.871986        373  2.044683\n",
              "\n",
              "[5 rows x 21 columns]"
            ]
          },
          "metadata": {},
          "execution_count": 17
        }
      ]
    },
    {
      "cell_type": "code",
      "metadata": {
        "id": "onVblv6pj3--"
      },
      "source": [
        "df_final_new=df_final.drop(['DE_HOME_LAT','DE_HOME_LNG','CUSTOMER_LAT','CUSTOMER_LNG','CUSTOMER_ZONE','DE_ZONE_ID','DELIVERED_TIME'],axis=1)\n"
      ],
      "execution_count": null,
      "outputs": []
    },
    {
      "cell_type": "code",
      "metadata": {
        "colab": {
          "base_uri": "https://localhost:8080/",
          "height": 307
        },
        "id": "JgNRhpadkmZm",
        "outputId": "6af70c17-8ede-43a5-f4cb-084e07506e0c"
      },
      "source": [
        "df_final_new.head()"
      ],
      "execution_count": null,
      "outputs": [
        {
          "output_type": "execute_result",
          "data": {
            "text/html": [
              "<div>\n",
              "<style scoped>\n",
              "    .dataframe tbody tr th:only-of-type {\n",
              "        vertical-align: middle;\n",
              "    }\n",
              "\n",
              "    .dataframe tbody tr th {\n",
              "        vertical-align: top;\n",
              "    }\n",
              "\n",
              "    .dataframe thead th {\n",
              "        text-align: right;\n",
              "    }\n",
              "</style>\n",
              "<table border=\"1\" class=\"dataframe\">\n",
              "  <thead>\n",
              "    <tr style=\"text-align: right;\">\n",
              "      <th></th>\n",
              "      <th>ORDER_ID</th>\n",
              "      <th>DE_ID</th>\n",
              "      <th>ASSIGNMENT_START_TIME</th>\n",
              "      <th>ASSIGNMENT_END_TIME</th>\n",
              "      <th>reject_type</th>\n",
              "      <th>PLACED_TIME</th>\n",
              "      <th>LASTMILE_DISTANCE</th>\n",
              "      <th>FIRSTMILE_DISTANCE</th>\n",
              "      <th>LAST_MILE_TIME_PREDICTED</th>\n",
              "      <th>PAYOUT_MADE_TO_DE</th>\n",
              "      <th>NUM_PING_COUNT_LAST10MIN</th>\n",
              "      <th>LAST_PING_TIME_LAST10MIN</th>\n",
              "      <th>SHIFT_END_TIME</th>\n",
              "      <th>distance</th>\n",
              "    </tr>\n",
              "  </thead>\n",
              "  <tbody>\n",
              "    <tr>\n",
              "      <th>0</th>\n",
              "      <td>2745</td>\n",
              "      <td>180976</td>\n",
              "      <td>2021-02-13 03:08:24.000</td>\n",
              "      <td>2021-02-13 03:38:26.000</td>\n",
              "      <td>NaN</td>\n",
              "      <td>2021-02-13 03:01:11.686</td>\n",
              "      <td>320.9</td>\n",
              "      <td>320.0</td>\n",
              "      <td>314.0</td>\n",
              "      <td>1810.0</td>\n",
              "      <td>63</td>\n",
              "      <td>2021-02-13 03:07:34.000</td>\n",
              "      <td>05:42</td>\n",
              "      <td>2.044683</td>\n",
              "    </tr>\n",
              "    <tr>\n",
              "      <th>1</th>\n",
              "      <td>14974</td>\n",
              "      <td>180976</td>\n",
              "      <td>2021-02-15 03:36:24.000</td>\n",
              "      <td>2021-02-15 03:54:31.000</td>\n",
              "      <td>NaN</td>\n",
              "      <td>2021-02-15 03:30:24.093</td>\n",
              "      <td>370.4</td>\n",
              "      <td>414.5</td>\n",
              "      <td>378.2</td>\n",
              "      <td>3710.0</td>\n",
              "      <td>52</td>\n",
              "      <td>2021-02-15 03:36:19.000</td>\n",
              "      <td>05:42</td>\n",
              "      <td>2.044683</td>\n",
              "    </tr>\n",
              "    <tr>\n",
              "      <th>2</th>\n",
              "      <td>115325</td>\n",
              "      <td>180976</td>\n",
              "      <td>2021-03-04 04:57:21.000</td>\n",
              "      <td>2021-03-04 05:23:19.000</td>\n",
              "      <td>NaN</td>\n",
              "      <td>2021-03-04 04:47:34.977</td>\n",
              "      <td>408.2</td>\n",
              "      <td>320.0</td>\n",
              "      <td>397.2</td>\n",
              "      <td>2760.0</td>\n",
              "      <td>9</td>\n",
              "      <td>2021-03-04 04:56:33.000</td>\n",
              "      <td>05:42</td>\n",
              "      <td>2.044683</td>\n",
              "    </tr>\n",
              "    <tr>\n",
              "      <th>3</th>\n",
              "      <td>1648</td>\n",
              "      <td>180976</td>\n",
              "      <td>2021-02-13 00:12:40.000</td>\n",
              "      <td>2021-02-13 01:02:36.000</td>\n",
              "      <td>NaN</td>\n",
              "      <td>2021-02-13 00:11:09.582</td>\n",
              "      <td>389.6</td>\n",
              "      <td>342.8</td>\n",
              "      <td>382.5</td>\n",
              "      <td>2210.0</td>\n",
              "      <td>16</td>\n",
              "      <td>2021-02-13 00:12:27.000</td>\n",
              "      <td>05:42</td>\n",
              "      <td>2.044683</td>\n",
              "    </tr>\n",
              "    <tr>\n",
              "      <th>4</th>\n",
              "      <td>72496</td>\n",
              "      <td>180976</td>\n",
              "      <td>2021-02-25 04:08:34.000</td>\n",
              "      <td>2021-02-25 04:30:31.000</td>\n",
              "      <td>NaN</td>\n",
              "      <td>2021-02-25 03:56:48.521</td>\n",
              "      <td>392.3</td>\n",
              "      <td>418.1</td>\n",
              "      <td>351.3</td>\n",
              "      <td>2460.0</td>\n",
              "      <td>13</td>\n",
              "      <td>2021-02-25 04:07:58.000</td>\n",
              "      <td>05:42</td>\n",
              "      <td>2.044683</td>\n",
              "    </tr>\n",
              "  </tbody>\n",
              "</table>\n",
              "</div>"
            ],
            "text/plain": [
              "   ORDER_ID   DE_ID  ... SHIFT_END_TIME  distance\n",
              "0      2745  180976  ...          05:42  2.044683\n",
              "1     14974  180976  ...          05:42  2.044683\n",
              "2    115325  180976  ...          05:42  2.044683\n",
              "3      1648  180976  ...          05:42  2.044683\n",
              "4     72496  180976  ...          05:42  2.044683\n",
              "\n",
              "[5 rows x 14 columns]"
            ]
          },
          "metadata": {},
          "execution_count": 19
        }
      ]
    },
    {
      "cell_type": "code",
      "metadata": {
        "id": "TPsiygBJrN6V"
      },
      "source": [
        "df_final_new['ASSIGNMENT_START_TIME'] = pd.to_datetime(df_final_new['ASSIGNMENT_START_TIME'])\n",
        "df_final_new['ASSIGNMENT_START_TIME_hour'] = df_final_new['ASSIGNMENT_START_TIME'].dt.hour\n",
        "df_final_new['ASSIGNMENT_START_TIME_min'] = df_final_new['ASSIGNMENT_START_TIME'].dt.minute\n",
        "df_final_new=df_final_new.drop(['ASSIGNMENT_START_TIME'],axis=1)\n",
        "\n",
        "\n",
        "\n"
      ],
      "execution_count": null,
      "outputs": []
    },
    {
      "cell_type": "code",
      "metadata": {
        "id": "iQWxCE0RsnLl"
      },
      "source": [
        "df_final_new=df_final_new.drop(['ORDER_ID','DE_ID','reject_type'],axis=1)"
      ],
      "execution_count": null,
      "outputs": []
    },
    {
      "cell_type": "code",
      "metadata": {
        "colab": {
          "base_uri": "https://localhost:8080/",
          "height": 307
        },
        "id": "rF4w3QUnpJFu",
        "outputId": "dec96a16-9a15-4d36-be74-da6abf3bd748"
      },
      "source": [
        "df_final_new.head()"
      ],
      "execution_count": null,
      "outputs": [
        {
          "output_type": "execute_result",
          "data": {
            "text/html": [
              "<div>\n",
              "<style scoped>\n",
              "    .dataframe tbody tr th:only-of-type {\n",
              "        vertical-align: middle;\n",
              "    }\n",
              "\n",
              "    .dataframe tbody tr th {\n",
              "        vertical-align: top;\n",
              "    }\n",
              "\n",
              "    .dataframe thead th {\n",
              "        text-align: right;\n",
              "    }\n",
              "</style>\n",
              "<table border=\"1\" class=\"dataframe\">\n",
              "  <thead>\n",
              "    <tr style=\"text-align: right;\">\n",
              "      <th></th>\n",
              "      <th>ASSIGNMENT_END_TIME</th>\n",
              "      <th>PLACED_TIME</th>\n",
              "      <th>LASTMILE_DISTANCE</th>\n",
              "      <th>FIRSTMILE_DISTANCE</th>\n",
              "      <th>LAST_MILE_TIME_PREDICTED</th>\n",
              "      <th>PAYOUT_MADE_TO_DE</th>\n",
              "      <th>NUM_PING_COUNT_LAST10MIN</th>\n",
              "      <th>LAST_PING_TIME_LAST10MIN</th>\n",
              "      <th>SHIFT_END_TIME</th>\n",
              "      <th>distance</th>\n",
              "      <th>ASSIGNMENT_START_TIME_hour</th>\n",
              "      <th>ASSIGNMENT_START_TIME_min</th>\n",
              "    </tr>\n",
              "  </thead>\n",
              "  <tbody>\n",
              "    <tr>\n",
              "      <th>0</th>\n",
              "      <td>2021-02-13 03:38:26.000</td>\n",
              "      <td>2021-02-13 03:01:11.686</td>\n",
              "      <td>320.9</td>\n",
              "      <td>320.0</td>\n",
              "      <td>314.0</td>\n",
              "      <td>1810.0</td>\n",
              "      <td>63</td>\n",
              "      <td>2021-02-13 03:07:34.000</td>\n",
              "      <td>05:42</td>\n",
              "      <td>2.044683</td>\n",
              "      <td>3</td>\n",
              "      <td>8</td>\n",
              "    </tr>\n",
              "    <tr>\n",
              "      <th>1</th>\n",
              "      <td>2021-02-15 03:54:31.000</td>\n",
              "      <td>2021-02-15 03:30:24.093</td>\n",
              "      <td>370.4</td>\n",
              "      <td>414.5</td>\n",
              "      <td>378.2</td>\n",
              "      <td>3710.0</td>\n",
              "      <td>52</td>\n",
              "      <td>2021-02-15 03:36:19.000</td>\n",
              "      <td>05:42</td>\n",
              "      <td>2.044683</td>\n",
              "      <td>3</td>\n",
              "      <td>36</td>\n",
              "    </tr>\n",
              "    <tr>\n",
              "      <th>2</th>\n",
              "      <td>2021-03-04 05:23:19.000</td>\n",
              "      <td>2021-03-04 04:47:34.977</td>\n",
              "      <td>408.2</td>\n",
              "      <td>320.0</td>\n",
              "      <td>397.2</td>\n",
              "      <td>2760.0</td>\n",
              "      <td>9</td>\n",
              "      <td>2021-03-04 04:56:33.000</td>\n",
              "      <td>05:42</td>\n",
              "      <td>2.044683</td>\n",
              "      <td>4</td>\n",
              "      <td>57</td>\n",
              "    </tr>\n",
              "    <tr>\n",
              "      <th>3</th>\n",
              "      <td>2021-02-13 01:02:36.000</td>\n",
              "      <td>2021-02-13 00:11:09.582</td>\n",
              "      <td>389.6</td>\n",
              "      <td>342.8</td>\n",
              "      <td>382.5</td>\n",
              "      <td>2210.0</td>\n",
              "      <td>16</td>\n",
              "      <td>2021-02-13 00:12:27.000</td>\n",
              "      <td>05:42</td>\n",
              "      <td>2.044683</td>\n",
              "      <td>0</td>\n",
              "      <td>12</td>\n",
              "    </tr>\n",
              "    <tr>\n",
              "      <th>4</th>\n",
              "      <td>2021-02-25 04:30:31.000</td>\n",
              "      <td>2021-02-25 03:56:48.521</td>\n",
              "      <td>392.3</td>\n",
              "      <td>418.1</td>\n",
              "      <td>351.3</td>\n",
              "      <td>2460.0</td>\n",
              "      <td>13</td>\n",
              "      <td>2021-02-25 04:07:58.000</td>\n",
              "      <td>05:42</td>\n",
              "      <td>2.044683</td>\n",
              "      <td>4</td>\n",
              "      <td>8</td>\n",
              "    </tr>\n",
              "  </tbody>\n",
              "</table>\n",
              "</div>"
            ],
            "text/plain": [
              "       ASSIGNMENT_END_TIME  ... ASSIGNMENT_START_TIME_min\n",
              "0  2021-02-13 03:38:26.000  ...                         8\n",
              "1  2021-02-15 03:54:31.000  ...                        36\n",
              "2  2021-03-04 05:23:19.000  ...                        57\n",
              "3  2021-02-13 01:02:36.000  ...                        12\n",
              "4  2021-02-25 04:30:31.000  ...                         8\n",
              "\n",
              "[5 rows x 12 columns]"
            ]
          },
          "metadata": {},
          "execution_count": 23
        }
      ]
    },
    {
      "cell_type": "code",
      "metadata": {
        "id": "5cCt3wTkr9m8"
      },
      "source": [
        "df_final_new['ASSIGNMENT_END_TIME'] = pd.to_datetime(df_final_new['ASSIGNMENT_END_TIME'])\n",
        "df_final_new['ASSIGNMENT_END_TIME_hour'] = df_final_new['ASSIGNMENT_END_TIME'].dt.hour\n",
        "df_final_new['ASSIGNMENT_END_TIME_min'] = df_final_new['ASSIGNMENT_END_TIME'].dt.minute\n",
        "df_final_new=df_final_new.drop(['ASSIGNMENT_END_TIME'],axis=1)\n"
      ],
      "execution_count": null,
      "outputs": []
    },
    {
      "cell_type": "code",
      "metadata": {
        "id": "ry5YXLD6sP8J"
      },
      "source": [
        "df_final_new['PLACED_TIME'] = pd.to_datetime(df_final_new['PLACED_TIME'])\n",
        "df_final_new['PLACED_TIME_hour'] = df_final_new['PLACED_TIME'].dt.hour\n",
        "df_final_new['PLACED_TIME_min'] = df_final_new['PLACED_TIME'].dt.minute\n",
        "df_final_new=df_final_new.drop(['PLACED_TIME'],axis=1)"
      ],
      "execution_count": null,
      "outputs": []
    },
    {
      "cell_type": "code",
      "metadata": {
        "id": "7RWKFrGUsXEj"
      },
      "source": [
        "df_final_new['LAST_PING_TIME_LAST10MIN'] = pd.to_datetime(df_final_new['LAST_PING_TIME_LAST10MIN'])\n",
        "df_final_new['LAST_PING_TIME_LAST10MIN_hour'] = df_final_new['LAST_PING_TIME_LAST10MIN'].dt.hour\n",
        "df_final_new['LAST_PING_TIME_LAST10MIN_min'] = df_final_new['LAST_PING_TIME_LAST10MIN'].dt.minute\n",
        "df_final_new=df_final_new.drop(['LAST_PING_TIME_LAST10MIN'],axis=1)"
      ],
      "execution_count": null,
      "outputs": []
    },
    {
      "cell_type": "code",
      "metadata": {
        "id": "w3gmpGequsA2"
      },
      "source": [
        "import time\n",
        "for ind,row in df_final.iterrows():\n",
        "  df_final_new['SHIFT_END_TIME_hour']=time.strptime(row['SHIFT_END_TIME'],\"%H:%M\").tm_hour\n",
        "  df_final_new['SHIFT_END_TIME_min']=time.strptime(row['SHIFT_END_TIME'],\"%H:%M\").tm_min\n",
        "\n",
        "\n"
      ],
      "execution_count": null,
      "outputs": []
    },
    {
      "cell_type": "code",
      "metadata": {
        "colab": {
          "base_uri": "https://localhost:8080/"
        },
        "id": "U9SrTK2-yVPW",
        "outputId": "f6fdbb64-b488-4611-c572-39a3f491e229"
      },
      "source": [
        "df_final_new['SHIFT_END_TIME'].value_counts()"
      ],
      "execution_count": null,
      "outputs": [
        {
          "output_type": "execute_result",
          "data": {
            "text/plain": [
              "05:42    63431\n",
              "06:42    32739\n",
              "01:42    12746\n",
              "11:42    10864\n",
              "08:42    10860\n",
              "00:42     1754\n",
              "Name: SHIFT_END_TIME, dtype: int64"
            ]
          },
          "metadata": {},
          "execution_count": 29
        }
      ]
    },
    {
      "cell_type": "code",
      "metadata": {
        "colab": {
          "base_uri": "https://localhost:8080/",
          "height": 223
        },
        "id": "2XjPWvD7xweS",
        "outputId": "111a88da-10a9-4084-f24c-92077f02c415"
      },
      "source": [
        "df_final_new.head()"
      ],
      "execution_count": null,
      "outputs": [
        {
          "output_type": "execute_result",
          "data": {
            "text/html": [
              "<div>\n",
              "<style scoped>\n",
              "    .dataframe tbody tr th:only-of-type {\n",
              "        vertical-align: middle;\n",
              "    }\n",
              "\n",
              "    .dataframe tbody tr th {\n",
              "        vertical-align: top;\n",
              "    }\n",
              "\n",
              "    .dataframe thead th {\n",
              "        text-align: right;\n",
              "    }\n",
              "</style>\n",
              "<table border=\"1\" class=\"dataframe\">\n",
              "  <thead>\n",
              "    <tr style=\"text-align: right;\">\n",
              "      <th></th>\n",
              "      <th>LASTMILE_DISTANCE</th>\n",
              "      <th>FIRSTMILE_DISTANCE</th>\n",
              "      <th>LAST_MILE_TIME_PREDICTED</th>\n",
              "      <th>PAYOUT_MADE_TO_DE</th>\n",
              "      <th>NUM_PING_COUNT_LAST10MIN</th>\n",
              "      <th>SHIFT_END_TIME</th>\n",
              "      <th>distance</th>\n",
              "      <th>ASSIGNMENT_START_TIME_hour</th>\n",
              "      <th>ASSIGNMENT_START_TIME_min</th>\n",
              "      <th>ASSIGNMENT_END_TIME_hour</th>\n",
              "      <th>ASSIGNMENT_END_TIME_min</th>\n",
              "      <th>PLACED_TIME_hour</th>\n",
              "      <th>PLACED_TIME_min</th>\n",
              "      <th>LAST_PING_TIME_LAST10MIN_hour</th>\n",
              "      <th>LAST_PING_TIME_LAST10MIN_min</th>\n",
              "      <th>SHIFT_END_TIME_hour</th>\n",
              "      <th>SHIFT_END_TIME_min</th>\n",
              "    </tr>\n",
              "  </thead>\n",
              "  <tbody>\n",
              "    <tr>\n",
              "      <th>0</th>\n",
              "      <td>320.9</td>\n",
              "      <td>320.0</td>\n",
              "      <td>314.0</td>\n",
              "      <td>1810.0</td>\n",
              "      <td>63</td>\n",
              "      <td>05:42</td>\n",
              "      <td>2.044683</td>\n",
              "      <td>3</td>\n",
              "      <td>8</td>\n",
              "      <td>3</td>\n",
              "      <td>38</td>\n",
              "      <td>3</td>\n",
              "      <td>1</td>\n",
              "      <td>3</td>\n",
              "      <td>7</td>\n",
              "      <td>6</td>\n",
              "      <td>42</td>\n",
              "    </tr>\n",
              "    <tr>\n",
              "      <th>1</th>\n",
              "      <td>370.4</td>\n",
              "      <td>414.5</td>\n",
              "      <td>378.2</td>\n",
              "      <td>3710.0</td>\n",
              "      <td>52</td>\n",
              "      <td>05:42</td>\n",
              "      <td>2.044683</td>\n",
              "      <td>3</td>\n",
              "      <td>36</td>\n",
              "      <td>3</td>\n",
              "      <td>54</td>\n",
              "      <td>3</td>\n",
              "      <td>30</td>\n",
              "      <td>3</td>\n",
              "      <td>36</td>\n",
              "      <td>6</td>\n",
              "      <td>42</td>\n",
              "    </tr>\n",
              "    <tr>\n",
              "      <th>2</th>\n",
              "      <td>408.2</td>\n",
              "      <td>320.0</td>\n",
              "      <td>397.2</td>\n",
              "      <td>2760.0</td>\n",
              "      <td>9</td>\n",
              "      <td>05:42</td>\n",
              "      <td>2.044683</td>\n",
              "      <td>4</td>\n",
              "      <td>57</td>\n",
              "      <td>5</td>\n",
              "      <td>23</td>\n",
              "      <td>4</td>\n",
              "      <td>47</td>\n",
              "      <td>4</td>\n",
              "      <td>56</td>\n",
              "      <td>6</td>\n",
              "      <td>42</td>\n",
              "    </tr>\n",
              "    <tr>\n",
              "      <th>3</th>\n",
              "      <td>389.6</td>\n",
              "      <td>342.8</td>\n",
              "      <td>382.5</td>\n",
              "      <td>2210.0</td>\n",
              "      <td>16</td>\n",
              "      <td>05:42</td>\n",
              "      <td>2.044683</td>\n",
              "      <td>0</td>\n",
              "      <td>12</td>\n",
              "      <td>1</td>\n",
              "      <td>2</td>\n",
              "      <td>0</td>\n",
              "      <td>11</td>\n",
              "      <td>0</td>\n",
              "      <td>12</td>\n",
              "      <td>6</td>\n",
              "      <td>42</td>\n",
              "    </tr>\n",
              "    <tr>\n",
              "      <th>4</th>\n",
              "      <td>392.3</td>\n",
              "      <td>418.1</td>\n",
              "      <td>351.3</td>\n",
              "      <td>2460.0</td>\n",
              "      <td>13</td>\n",
              "      <td>05:42</td>\n",
              "      <td>2.044683</td>\n",
              "      <td>4</td>\n",
              "      <td>8</td>\n",
              "      <td>4</td>\n",
              "      <td>30</td>\n",
              "      <td>3</td>\n",
              "      <td>56</td>\n",
              "      <td>4</td>\n",
              "      <td>7</td>\n",
              "      <td>6</td>\n",
              "      <td>42</td>\n",
              "    </tr>\n",
              "  </tbody>\n",
              "</table>\n",
              "</div>"
            ],
            "text/plain": [
              "   LASTMILE_DISTANCE  ...  SHIFT_END_TIME_min\n",
              "0              320.9  ...                  42\n",
              "1              370.4  ...                  42\n",
              "2              408.2  ...                  42\n",
              "3              389.6  ...                  42\n",
              "4              392.3  ...                  42\n",
              "\n",
              "[5 rows x 17 columns]"
            ]
          },
          "metadata": {},
          "execution_count": 30
        }
      ]
    },
    {
      "cell_type": "code",
      "metadata": {
        "colab": {
          "base_uri": "https://localhost:8080/"
        },
        "id": "_a9prjV9ylVL",
        "outputId": "a752b742-f1be-4393-a8d3-7da6e727ad3d"
      },
      "source": [
        "df_final_new.shape"
      ],
      "execution_count": null,
      "outputs": [
        {
          "output_type": "execute_result",
          "data": {
            "text/plain": [
              "(132394, 17)"
            ]
          },
          "metadata": {},
          "execution_count": 31
        }
      ]
    },
    {
      "cell_type": "code",
      "metadata": {
        "id": "F3bhAWk41shT"
      },
      "source": [
        "df_final_new['SHIFT_END_TIME_hour'] = pd.to_datetime(df_final_new['SHIFT_END_TIME'], format='%H:%M').dt.hour\n",
        "df_final_new['SHIFT_END_TIME_min'] = pd.to_datetime(df_final_new['SHIFT_END_TIME'], format='%H:%M').dt.minute"
      ],
      "execution_count": null,
      "outputs": []
    },
    {
      "cell_type": "code",
      "metadata": {
        "id": "UHhXILb12BNg"
      },
      "source": [
        "df_final_new=df_final_new.drop(['SHIFT_END_TIME'],axis=1)"
      ],
      "execution_count": null,
      "outputs": []
    },
    {
      "cell_type": "code",
      "metadata": {
        "colab": {
          "base_uri": "https://localhost:8080/",
          "height": 223
        },
        "id": "ludXEvop2JR-",
        "outputId": "47198bc1-04ce-4acc-f870-9294dfde616f"
      },
      "source": [
        "df_final_new.head()"
      ],
      "execution_count": null,
      "outputs": [
        {
          "output_type": "execute_result",
          "data": {
            "text/html": [
              "<div>\n",
              "<style scoped>\n",
              "    .dataframe tbody tr th:only-of-type {\n",
              "        vertical-align: middle;\n",
              "    }\n",
              "\n",
              "    .dataframe tbody tr th {\n",
              "        vertical-align: top;\n",
              "    }\n",
              "\n",
              "    .dataframe thead th {\n",
              "        text-align: right;\n",
              "    }\n",
              "</style>\n",
              "<table border=\"1\" class=\"dataframe\">\n",
              "  <thead>\n",
              "    <tr style=\"text-align: right;\">\n",
              "      <th></th>\n",
              "      <th>LASTMILE_DISTANCE</th>\n",
              "      <th>FIRSTMILE_DISTANCE</th>\n",
              "      <th>LAST_MILE_TIME_PREDICTED</th>\n",
              "      <th>PAYOUT_MADE_TO_DE</th>\n",
              "      <th>NUM_PING_COUNT_LAST10MIN</th>\n",
              "      <th>distance</th>\n",
              "      <th>ASSIGNMENT_START_TIME_hour</th>\n",
              "      <th>ASSIGNMENT_START_TIME_min</th>\n",
              "      <th>ASSIGNMENT_END_TIME_hour</th>\n",
              "      <th>ASSIGNMENT_END_TIME_min</th>\n",
              "      <th>PLACED_TIME_hour</th>\n",
              "      <th>PLACED_TIME_min</th>\n",
              "      <th>LAST_PING_TIME_LAST10MIN_hour</th>\n",
              "      <th>LAST_PING_TIME_LAST10MIN_min</th>\n",
              "      <th>SHIFT_END_TIME_hour</th>\n",
              "      <th>SHIFT_END_TIME_min</th>\n",
              "    </tr>\n",
              "  </thead>\n",
              "  <tbody>\n",
              "    <tr>\n",
              "      <th>0</th>\n",
              "      <td>320.9</td>\n",
              "      <td>320.0</td>\n",
              "      <td>314.0</td>\n",
              "      <td>1810.0</td>\n",
              "      <td>63</td>\n",
              "      <td>2.044683</td>\n",
              "      <td>3</td>\n",
              "      <td>8</td>\n",
              "      <td>3</td>\n",
              "      <td>38</td>\n",
              "      <td>3</td>\n",
              "      <td>1</td>\n",
              "      <td>3</td>\n",
              "      <td>7</td>\n",
              "      <td>5</td>\n",
              "      <td>42</td>\n",
              "    </tr>\n",
              "    <tr>\n",
              "      <th>1</th>\n",
              "      <td>370.4</td>\n",
              "      <td>414.5</td>\n",
              "      <td>378.2</td>\n",
              "      <td>3710.0</td>\n",
              "      <td>52</td>\n",
              "      <td>2.044683</td>\n",
              "      <td>3</td>\n",
              "      <td>36</td>\n",
              "      <td>3</td>\n",
              "      <td>54</td>\n",
              "      <td>3</td>\n",
              "      <td>30</td>\n",
              "      <td>3</td>\n",
              "      <td>36</td>\n",
              "      <td>5</td>\n",
              "      <td>42</td>\n",
              "    </tr>\n",
              "    <tr>\n",
              "      <th>2</th>\n",
              "      <td>408.2</td>\n",
              "      <td>320.0</td>\n",
              "      <td>397.2</td>\n",
              "      <td>2760.0</td>\n",
              "      <td>9</td>\n",
              "      <td>2.044683</td>\n",
              "      <td>4</td>\n",
              "      <td>57</td>\n",
              "      <td>5</td>\n",
              "      <td>23</td>\n",
              "      <td>4</td>\n",
              "      <td>47</td>\n",
              "      <td>4</td>\n",
              "      <td>56</td>\n",
              "      <td>5</td>\n",
              "      <td>42</td>\n",
              "    </tr>\n",
              "    <tr>\n",
              "      <th>3</th>\n",
              "      <td>389.6</td>\n",
              "      <td>342.8</td>\n",
              "      <td>382.5</td>\n",
              "      <td>2210.0</td>\n",
              "      <td>16</td>\n",
              "      <td>2.044683</td>\n",
              "      <td>0</td>\n",
              "      <td>12</td>\n",
              "      <td>1</td>\n",
              "      <td>2</td>\n",
              "      <td>0</td>\n",
              "      <td>11</td>\n",
              "      <td>0</td>\n",
              "      <td>12</td>\n",
              "      <td>5</td>\n",
              "      <td>42</td>\n",
              "    </tr>\n",
              "    <tr>\n",
              "      <th>4</th>\n",
              "      <td>392.3</td>\n",
              "      <td>418.1</td>\n",
              "      <td>351.3</td>\n",
              "      <td>2460.0</td>\n",
              "      <td>13</td>\n",
              "      <td>2.044683</td>\n",
              "      <td>4</td>\n",
              "      <td>8</td>\n",
              "      <td>4</td>\n",
              "      <td>30</td>\n",
              "      <td>3</td>\n",
              "      <td>56</td>\n",
              "      <td>4</td>\n",
              "      <td>7</td>\n",
              "      <td>5</td>\n",
              "      <td>42</td>\n",
              "    </tr>\n",
              "  </tbody>\n",
              "</table>\n",
              "</div>"
            ],
            "text/plain": [
              "   LASTMILE_DISTANCE  ...  SHIFT_END_TIME_min\n",
              "0              320.9  ...                  42\n",
              "1              370.4  ...                  42\n",
              "2              408.2  ...                  42\n",
              "3              389.6  ...                  42\n",
              "4              392.3  ...                  42\n",
              "\n",
              "[5 rows x 16 columns]"
            ]
          },
          "metadata": {},
          "execution_count": 34
        }
      ]
    },
    {
      "cell_type": "code",
      "metadata": {
        "colab": {
          "base_uri": "https://localhost:8080/"
        },
        "id": "Bmu0W7Gv3RyW",
        "outputId": "ef149825-ae02-4ca8-b90d-d4e160266f6c"
      },
      "source": [
        "np.any(np.isnan(df_final_new))"
      ],
      "execution_count": null,
      "outputs": [
        {
          "output_type": "execute_result",
          "data": {
            "text/plain": [
              "True"
            ]
          },
          "metadata": {},
          "execution_count": 35
        }
      ]
    },
    {
      "cell_type": "code",
      "metadata": {
        "colab": {
          "base_uri": "https://localhost:8080/"
        },
        "id": "NyT-T4DH3ZhN",
        "outputId": "a78febca-8216-4575-cfdd-d7ab46a64a7e"
      },
      "source": [
        "np.all(np.isfinite(df_final_new))"
      ],
      "execution_count": null,
      "outputs": [
        {
          "output_type": "execute_result",
          "data": {
            "text/plain": [
              "False"
            ]
          },
          "metadata": {},
          "execution_count": 36
        }
      ]
    },
    {
      "cell_type": "code",
      "metadata": {
        "colab": {
          "base_uri": "https://localhost:8080/"
        },
        "id": "-KErAEfr3xTf",
        "outputId": "45c5a748-cf9c-4975-ec8f-80fa6075479a"
      },
      "source": [
        "df_final_new.isnull().sum()"
      ],
      "execution_count": null,
      "outputs": [
        {
          "output_type": "execute_result",
          "data": {
            "text/plain": [
              "LASTMILE_DISTANCE                0\n",
              "FIRSTMILE_DISTANCE               0\n",
              "LAST_MILE_TIME_PREDICTED         0\n",
              "PAYOUT_MADE_TO_DE                3\n",
              "NUM_PING_COUNT_LAST10MIN         0\n",
              "distance                         0\n",
              "ASSIGNMENT_START_TIME_hour       0\n",
              "ASSIGNMENT_START_TIME_min        0\n",
              "ASSIGNMENT_END_TIME_hour         0\n",
              "ASSIGNMENT_END_TIME_min          0\n",
              "PLACED_TIME_hour                 0\n",
              "PLACED_TIME_min                  0\n",
              "LAST_PING_TIME_LAST10MIN_hour    0\n",
              "LAST_PING_TIME_LAST10MIN_min     0\n",
              "SHIFT_END_TIME_hour              0\n",
              "SHIFT_END_TIME_min               0\n",
              "dtype: int64"
            ]
          },
          "metadata": {},
          "execution_count": 37
        }
      ]
    },
    {
      "cell_type": "code",
      "metadata": {
        "id": "IH7jsP-h376x"
      },
      "source": [
        "df_final_new['PAYOUT_MADE_TO_DE'].fillna(value=df_final_new['PAYOUT_MADE_TO_DE'].mean(), inplace=True)"
      ],
      "execution_count": null,
      "outputs": []
    },
    {
      "cell_type": "code",
      "metadata": {
        "id": "NeJcKhWD04mD"
      },
      "source": [
        "import pandas as pd\n",
        "import numpy as np\n",
        "  #target column i.e price range\n",
        "from sklearn.ensemble import ExtraTreesClassifier\n",
        "import matplotlib.pyplot as plt\n",
        "model_feature = ExtraTreesClassifier()\n",
        "model_feature.fit(df_final,target)\n",
        "print(model_feature.feature_importances_) #use inbuilt class feature_importances of tree based classifiers\n",
        "#plot graph of feature importances for better visualization\n",
        "feat_importances = pd.Series(model_feature.feature_importances_, index=df_final_new.columns)\n",
        "feat_importances.nlargest(35).plot(kind='barh')\n",
        "\n",
        "plt.show()"
      ],
      "execution_count": null,
      "outputs": []
    },
    {
      "cell_type": "code",
      "metadata": {
        "id": "Gvowlbf11NK5"
      },
      "source": [
        "# use it later\n",
        "#df_features=df_final_new.drop(['SHIFT_END_TIME_min','distance'],axis=1)"
      ],
      "execution_count": null,
      "outputs": []
    },
    {
      "cell_type": "code",
      "metadata": {
        "colab": {
          "base_uri": "https://localhost:8080/"
        },
        "id": "xP6xZ2BV2sjO",
        "outputId": "014075ab-1c7c-4448-a2fb-17921042a820"
      },
      "source": [
        "df_features.columns"
      ],
      "execution_count": null,
      "outputs": [
        {
          "output_type": "execute_result",
          "data": {
            "text/plain": [
              "Index(['LASTMILE_DISTANCE', 'FIRSTMILE_DISTANCE', 'LAST_MILE_TIME_PREDICTED',\n",
              "       'PAYOUT_MADE_TO_DE', 'NUM_PING_COUNT_LAST10MIN',\n",
              "       'ASSIGNMENT_START_TIME_hour', 'ASSIGNMENT_START_TIME_min',\n",
              "       'ASSIGNMENT_END_TIME_hour', 'ASSIGNMENT_END_TIME_min',\n",
              "       'PLACED_TIME_hour', 'PLACED_TIME_min', 'LAST_PING_TIME_LAST10MIN_hour',\n",
              "       'LAST_PING_TIME_LAST10MIN_min', 'SHIFT_END_TIME_hour'],\n",
              "      dtype='object')"
            ]
          },
          "metadata": {},
          "execution_count": 54
        }
      ]
    },
    {
      "cell_type": "code",
      "metadata": {
        "id": "zVzx3RLU2W7S"
      },
      "source": [
        "from sklearn.tree import DecisionTreeClassifier # Import Decision Tree Classifier\n",
        "from sklearn.model_selection import train_test_split # Import train_test_split function\n",
        "from sklearn import metrics\n",
        "X_train, X_test, y_train, y_test = train_test_split(df_final_new,target, test_size=0.35, random_state=1) "
      ],
      "execution_count": null,
      "outputs": []
    },
    {
      "cell_type": "code",
      "metadata": {
        "colab": {
          "base_uri": "https://localhost:8080/"
        },
        "id": "bih3v_yv85B1",
        "outputId": "679a15df-72d3-41a3-84bb-98da948286a9"
      },
      "source": [
        "print(X_train.shape)\n",
        "print(y_train.shape)\n",
        "print(X_test.shape)"
      ],
      "execution_count": null,
      "outputs": [
        {
          "output_type": "stream",
          "name": "stdout",
          "text": [
            "(86056, 16)\n",
            "(86056,)\n",
            "(46338, 16)\n"
          ]
        }
      ]
    },
    {
      "cell_type": "markdown",
      "metadata": {
        "id": "Jd8_K4rn_VRM"
      },
      "source": [
        "Decision tree classifier "
      ]
    },
    {
      "cell_type": "code",
      "metadata": {
        "colab": {
          "base_uri": "https://localhost:8080/"
        },
        "id": "Zk4KA09E3FDA",
        "outputId": "8c1ec451-d718-47c9-c3b4-d204a00df924"
      },
      "source": [
        "clf = DecisionTreeClassifier(criterion=\"entropy\", max_depth=3)\n",
        "\n",
        "# Train Decision Tree Classifer\n",
        "clf = clf.fit(X_train,y_train)\n",
        "\n",
        "#Predict the response for test dataset\n",
        "y_pred = clf.predict(X_test)\n",
        "\n",
        "# Model Accuracy, how often is the classifier correct?\n",
        "print(\"Accuracy:\",metrics.accuracy_score(y_test, y_pred))"
      ],
      "execution_count": null,
      "outputs": [
        {
          "output_type": "stream",
          "name": "stdout",
          "text": [
            "Accuracy: 1.0\n"
          ]
        }
      ]
    },
    {
      "cell_type": "code",
      "metadata": {
        "id": "02ZmoUbX4_RV"
      },
      "source": [
        "from sklearn.externals.six import StringIO  \n",
        "from IPython.display import Image  \n",
        "from sklearn.tree import export_graphviz\n",
        "import pydotplus\n",
        "dot_data = StringIO()\n",
        "export_graphviz(clf, out_file=dot_data,  \n",
        "                filled=True, rounded=True,\n",
        "                special_characters=True, feature_names = df_final_new.columns,class_names=['0','1'])\n",
        "graph = pydotplus.graph_from_dot_data(dot_data.getvalue())  \n",
        "graph.write_png('diabetes.png')\n",
        "Image(graph.create_png())"
      ],
      "execution_count": null,
      "outputs": []
    },
    {
      "cell_type": "markdown",
      "metadata": {
        "id": "6KSGndBZ_lAZ"
      },
      "source": [
        "Random forest classifier feature selection\n"
      ]
    },
    {
      "cell_type": "code",
      "metadata": {
        "colab": {
          "base_uri": "https://localhost:8080/"
        },
        "id": "JleMFGrN5WVT",
        "outputId": "4adc6488-9228-4cb3-ee02-3b51aa77d2cd"
      },
      "source": [
        "from sklearn.ensemble import RandomForestClassifier\n",
        "from sklearn.feature_selection import SelectFromModel\n",
        "#Create a Gaussian Classifier\n",
        "sel = SelectFromModel(RandomForestClassifier(n_estimators = 100))\n",
        "sel.fit(X_train, y_train)\n",
        "\n",
        "#Train the model using the training sets y_pred=clf.predict(X_test)\n",
        "\n"
      ],
      "execution_count": null,
      "outputs": [
        {
          "output_type": "execute_result",
          "data": {
            "text/plain": [
              "SelectFromModel(estimator=RandomForestClassifier(bootstrap=True, ccp_alpha=0.0,\n",
              "                                                 class_weight=None,\n",
              "                                                 criterion='gini',\n",
              "                                                 max_depth=None,\n",
              "                                                 max_features='auto',\n",
              "                                                 max_leaf_nodes=None,\n",
              "                                                 max_samples=None,\n",
              "                                                 min_impurity_decrease=0.0,\n",
              "                                                 min_impurity_split=None,\n",
              "                                                 min_samples_leaf=1,\n",
              "                                                 min_samples_split=2,\n",
              "                                                 min_weight_fraction_leaf=0.0,\n",
              "                                                 n_estimators=100, n_jobs=None,\n",
              "                                                 oob_score=False,\n",
              "                                                 random_state=None, verbose=0,\n",
              "                                                 warm_start=False),\n",
              "                max_features=None, norm_order=1, prefit=False, threshold=None)"
            ]
          },
          "metadata": {},
          "execution_count": 59
        }
      ]
    },
    {
      "cell_type": "code",
      "metadata": {
        "colab": {
          "base_uri": "https://localhost:8080/"
        },
        "id": "-ilkIzBR5bXE",
        "outputId": "9b3f99c3-381a-454c-c8fa-1437b36cf62f"
      },
      "source": [
        "sel.get_support()"
      ],
      "execution_count": null,
      "outputs": [
        {
          "output_type": "execute_result",
          "data": {
            "text/plain": [
              "array([False, False, False,  True, False, False, False, False, False,\n",
              "       False, False, False, False, False, False, False])"
            ]
          },
          "metadata": {},
          "execution_count": 60
        }
      ]
    },
    {
      "cell_type": "markdown",
      "metadata": {
        "id": "K-vJ8XT0_6pb"
      },
      "source": [
        "# After rejecting features and keeping only payout"
      ]
    },
    {
      "cell_type": "code",
      "metadata": {
        "colab": {
          "base_uri": "https://localhost:8080/"
        },
        "id": "cXDJigaL5l6A",
        "outputId": "9f44dbfd-ced0-41c0-e258-b28ac048aa5c"
      },
      "source": [
        "selected_feat= X_train.columns[(sel.get_support())]\n",
        "selected_feat"
      ],
      "execution_count": null,
      "outputs": [
        {
          "output_type": "execute_result",
          "data": {
            "text/plain": [
              "Index(['PAYOUT_MADE_TO_DE'], dtype='object')"
            ]
          },
          "metadata": {},
          "execution_count": 62
        }
      ]
    },
    {
      "cell_type": "code",
      "metadata": {
        "colab": {
          "base_uri": "https://localhost:8080/",
          "height": 203
        },
        "id": "r4_XRmn45u9S",
        "outputId": "019923a3-6f60-44c0-a402-066029091bf7"
      },
      "source": [
        "df_pay=pd.DataFrame(df_final_new['PAYOUT_MADE_TO_DE'])\n",
        "df_pay.head()"
      ],
      "execution_count": null,
      "outputs": [
        {
          "output_type": "execute_result",
          "data": {
            "text/html": [
              "<div>\n",
              "<style scoped>\n",
              "    .dataframe tbody tr th:only-of-type {\n",
              "        vertical-align: middle;\n",
              "    }\n",
              "\n",
              "    .dataframe tbody tr th {\n",
              "        vertical-align: top;\n",
              "    }\n",
              "\n",
              "    .dataframe thead th {\n",
              "        text-align: right;\n",
              "    }\n",
              "</style>\n",
              "<table border=\"1\" class=\"dataframe\">\n",
              "  <thead>\n",
              "    <tr style=\"text-align: right;\">\n",
              "      <th></th>\n",
              "      <th>PAYOUT_MADE_TO_DE</th>\n",
              "    </tr>\n",
              "  </thead>\n",
              "  <tbody>\n",
              "    <tr>\n",
              "      <th>0</th>\n",
              "      <td>1810.0</td>\n",
              "    </tr>\n",
              "    <tr>\n",
              "      <th>1</th>\n",
              "      <td>3710.0</td>\n",
              "    </tr>\n",
              "    <tr>\n",
              "      <th>2</th>\n",
              "      <td>2760.0</td>\n",
              "    </tr>\n",
              "    <tr>\n",
              "      <th>3</th>\n",
              "      <td>2210.0</td>\n",
              "    </tr>\n",
              "    <tr>\n",
              "      <th>4</th>\n",
              "      <td>2460.0</td>\n",
              "    </tr>\n",
              "  </tbody>\n",
              "</table>\n",
              "</div>"
            ],
            "text/plain": [
              "   PAYOUT_MADE_TO_DE\n",
              "0             1810.0\n",
              "1             3710.0\n",
              "2             2760.0\n",
              "3             2210.0\n",
              "4             2460.0"
            ]
          },
          "metadata": {},
          "execution_count": 64
        }
      ]
    },
    {
      "cell_type": "code",
      "metadata": {
        "id": "Au4tZ_uc6AgL"
      },
      "source": [
        "X_train_pay, X_test_pay, y_train_pay, y_test_pay = train_test_split(df_pay,target, test_size=0.30, random_state=1) "
      ],
      "execution_count": null,
      "outputs": []
    },
    {
      "cell_type": "code",
      "metadata": {
        "id": "u48AVGlR6Ox5"
      },
      "source": [
        "from sklearn.preprocessing import MinMaxScaler\n",
        "\n",
        "# fit scaler on training data\n",
        "norm_pay = MinMaxScaler().fit(X_train_pay)\n",
        "\n",
        "# transform training data\n",
        "X_train_norm_pay = norm_pay.transform(X_train_pay)\n",
        "\n",
        "# transform testing dataabs\n",
        "X_test_norm_pay = norm_pay.transform(X_test_pay)"
      ],
      "execution_count": null,
      "outputs": []
    },
    {
      "cell_type": "code",
      "metadata": {
        "colab": {
          "base_uri": "https://localhost:8080/"
        },
        "id": "JvUVm2GE6ghb",
        "outputId": "8c4b650e-7184-4bd5-984d-5c52695b27a9"
      },
      "source": [
        "from sklearn import svm\n",
        "\n",
        "#Create a svm Classifier\n",
        "clf_svm_pay= svm.SVC(kernel='linear') # Linear Kernel\n",
        "\n",
        "#Train the model using the training sets\n",
        "clf_svm_pay.fit(X_train_norm_pay, y_train_pay)\n",
        "\n",
        "#Predict the response for test dataset\n",
        "y_pred_pay= clf_svm_pay.predict(X_test_norm_pay)\n",
        "\n",
        "\n",
        "\n",
        "# Model Accuracy: how often is the classifier correct?\n",
        "print(\"Accuracy:\",metrics.accuracy_score(y_test_pay, y_pred_pay))"
      ],
      "execution_count": null,
      "outputs": [
        {
          "output_type": "stream",
          "name": "stdout",
          "text": [
            "Accuracy: 1.0\n"
          ]
        }
      ]
    },
    {
      "cell_type": "markdown",
      "metadata": {
        "id": "RCjJZ8PW6PbG"
      },
      "source": [
        "#Not rejecting features"
      ]
    },
    {
      "cell_type": "code",
      "metadata": {
        "id": "Z-H6kWol3nBb"
      },
      "source": [
        "clf.fit(X_train,y_train)\n",
        "\n",
        "y_pred=clf.predict(X_test)\n",
        "\n",
        "print(\"Accuracy:\",metrics.accuracy_score(y_test, y_pred))"
      ],
      "execution_count": null,
      "outputs": []
    },
    {
      "cell_type": "code",
      "metadata": {
        "id": "KthPDhIl6N68"
      },
      "source": [
        "from sklearn.preprocessing import MinMaxScaler\n",
        "\n",
        "# fit scaler on training data\n",
        "norm = MinMaxScaler().fit(X_train)\n",
        "\n",
        "# transform training data\n",
        "X_train_norm = norm.transform(X_train)\n",
        "\n",
        "# transform testing dataabs\n",
        "X_test_norm = norm.transform(X_test)"
      ],
      "execution_count": null,
      "outputs": []
    },
    {
      "cell_type": "markdown",
      "metadata": {
        "id": "QWzp18e9AMfq"
      },
      "source": [
        "SVM"
      ]
    },
    {
      "cell_type": "code",
      "metadata": {
        "colab": {
          "base_uri": "https://localhost:8080/"
        },
        "id": "owCr-kXw6QYh",
        "outputId": "3dfa9bb2-e58e-4ea7-8928-278bd9b01f0a"
      },
      "source": [
        "from sklearn import svm\n",
        "\n",
        "#Create a svm Classifier\n",
        "clf_svm= svm.SVC(kernel='linear') # Linear Kernel\n",
        "\n",
        "#Train the model using the training sets\n",
        "clf_svm.fit(X_train_norm, y_train)\n",
        "\n",
        "#Predict the response for test dataset\n",
        "y_pred = clf_svm.predict(X_test_norm)\n",
        "\n",
        "\n",
        "\n",
        "# Model Accuracy: how often is the classifier correct?\n",
        "print(\"Accuracy:\",metrics.accuracy_score(y_test, y_pred))"
      ],
      "execution_count": null,
      "outputs": [
        {
          "output_type": "stream",
          "name": "stdout",
          "text": [
            "Accuracy: 1.0\n"
          ]
        }
      ]
    },
    {
      "cell_type": "markdown",
      "metadata": {
        "id": "DMwjVaaSAJwA"
      },
      "source": [
        "XGB Classifier"
      ]
    },
    {
      "cell_type": "code",
      "metadata": {
        "colab": {
          "base_uri": "https://localhost:8080/"
        },
        "id": "ZWON3qUI8fmW",
        "outputId": "ec2a5776-3adc-4f58-c46f-8eeaa1e9a1bb"
      },
      "source": [
        "from numpy import loadtxt\n",
        "from xgboost import XGBClassifier\n",
        "from sklearn.metrics import accuracy_score\n",
        "# fit model no training data\n",
        "model_xg = XGBClassifier()\n",
        "model_xg.fit(X_train_norm, y_train)\n",
        "# make predictions for test data\n",
        "y_pred_xg = model_xg.predict(X_test_norm)\n",
        "predictions_xg = [round(value) for value in y_pred_xg]\n",
        "\n",
        "# evaluate predictions\n",
        "accuracy = accuracy_score(y_test, predictions_xg)\n",
        "print(\"Accuracy: %.2f%%\" % (accuracy * 100.0))"
      ],
      "execution_count": null,
      "outputs": [
        {
          "output_type": "stream",
          "name": "stdout",
          "text": [
            "Accuracy: 100.00%\n"
          ]
        }
      ]
    },
    {
      "cell_type": "code",
      "metadata": {
        "id": "DtLAdkUX9yLK"
      },
      "source": [
        "from keras.callbacks import EarlyStopping\n",
        "from keras.callbacks import ModelCheckpoint\n",
        "es = EarlyStopping(monitor='val_loss', mode='min', verbose=1, patience=10)\n",
        "mc = ModelCheckpoint('best_model.h5', monitor='val_loss', mode='min', save_best_only=True)"
      ],
      "execution_count": null,
      "outputs": []
    },
    {
      "cell_type": "markdown",
      "metadata": {
        "id": "sPunLu3oAEPR"
      },
      "source": [
        "Nueral Networks to remove overfitting"
      ]
    },
    {
      "cell_type": "code",
      "metadata": {
        "colab": {
          "base_uri": "https://localhost:8080/"
        },
        "id": "puR4BWsC824Z",
        "outputId": "0f4e6cfd-5a84-4a84-9904-47b57b5f0ca4"
      },
      "source": [
        "model = Sequential()\n",
        "model.add(Dense(1024, input_dim=16, activation='relu'))\n",
        "model.add(BatchNormalization())\n",
        "model.add(Dense(512, activation='relu'))\n",
        "model.add(Dropout(0.2))\n",
        "model.add(Dense(256, activation='relu'))\n",
        "model.add(BatchNormalization())\n",
        "model.add(Dense(128, activation='relu'))\n",
        "model.add(Dropout(0.2))\n",
        "model.add(Dense(64, activation='relu'))\n",
        "\n",
        "model.add(Dense(32, activation='relu'))\n",
        "model.add(Dropout(0.2))\n",
        "model.add(BatchNormalization())\n",
        "model.add(Dense(1, activation='sigmoid'))\n",
        "model.compile(loss='binary_crossentropy', optimizer='adam', metrics=['accuracy'])\n",
        "history = model.fit(X_train_norm, y_train, epochs=100, batch_size=64,validation_data=(X_test_norm,y_test),shuffle=True,callbacks=[es,mc])"
      ],
      "execution_count": null,
      "outputs": [
        {
          "output_type": "stream",
          "name": "stdout",
          "text": [
            "Epoch 1/100\n"
          ]
        },
        {
          "output_type": "stream",
          "name": "stderr",
          "text": [
            "Exception ignored in: <function IteratorResourceDeleter.__del__ at 0x7fe31e274050>\n",
            "Traceback (most recent call last):\n",
            "  File \"/usr/local/lib/python3.7/dist-packages/tensorflow/python/data/ops/iterator_ops.py\", line 546, in __del__\n",
            "    handle=self._handle, deleter=self._deleter)\n",
            "  File \"/usr/local/lib/python3.7/dist-packages/tensorflow/python/ops/gen_dataset_ops.py\", line 1264, in delete_iterator\n",
            "    _ctx, \"DeleteIterator\", name, handle, deleter)\n",
            "KeyboardInterrupt: \n"
          ]
        },
        {
          "output_type": "stream",
          "name": "stdout",
          "text": [
            "1655/1655 [==============================] - 66s 21ms/step - loss: 0.0595 - accuracy: 0.9858 - val_loss: 0.0303 - val_accuracy: 0.9892\n",
            "Epoch 2/100\n",
            "1655/1655 [==============================] - 36s 22ms/step - loss: 0.0051 - accuracy: 0.9991 - val_loss: 0.6451 - val_accuracy: 0.8506\n",
            "Epoch 3/100\n",
            "1655/1655 [==============================] - 35s 21ms/step - loss: 0.0047 - accuracy: 0.9990 - val_loss: 5.2429e-05 - val_accuracy: 1.0000\n",
            "Epoch 4/100\n",
            "1655/1655 [==============================] - 35s 21ms/step - loss: 0.0019 - accuracy: 0.9997 - val_loss: 2.2282e-05 - val_accuracy: 1.0000\n",
            "Epoch 5/100\n",
            "1655/1655 [==============================] - 35s 21ms/step - loss: 0.0015 - accuracy: 0.9996 - val_loss: 1.0863e-05 - val_accuracy: 1.0000\n",
            "Epoch 6/100\n",
            "1655/1655 [==============================] - 36s 22ms/step - loss: 5.6307e-05 - accuracy: 1.0000 - val_loss: 2.9887e-06 - val_accuracy: 1.0000\n",
            "Epoch 7/100\n",
            "1655/1655 [==============================] - 36s 22ms/step - loss: 3.6191e-05 - accuracy: 1.0000 - val_loss: 9.6600e-07 - val_accuracy: 1.0000\n",
            "Epoch 8/100\n",
            "1655/1655 [==============================] - 36s 22ms/step - loss: 0.0021 - accuracy: 0.9997 - val_loss: 1.0440e-04 - val_accuracy: 1.0000\n",
            "Epoch 9/100\n",
            "1655/1655 [==============================] - 36s 22ms/step - loss: 9.8106e-04 - accuracy: 0.9998 - val_loss: 1.0728e-04 - val_accuracy: 1.0000\n",
            "Epoch 10/100\n",
            "1655/1655 [==============================] - 38s 23ms/step - loss: 7.4235e-04 - accuracy: 0.9999 - val_loss: 6.8973e-06 - val_accuracy: 1.0000\n",
            "Epoch 11/100\n",
            "1655/1655 [==============================] - 37s 22ms/step - loss: 2.9631e-05 - accuracy: 1.0000 - val_loss: 2.9072e-06 - val_accuracy: 1.0000\n",
            "Epoch 12/100\n",
            "1655/1655 [==============================] - 36s 22ms/step - loss: 1.4216e-05 - accuracy: 1.0000 - val_loss: 5.3092e-07 - val_accuracy: 1.0000\n",
            "Epoch 13/100\n",
            "1655/1655 [==============================] - 37s 23ms/step - loss: 0.0011 - accuracy: 0.9999 - val_loss: 2.8095e-06 - val_accuracy: 1.0000\n",
            "Epoch 14/100\n",
            "1655/1655 [==============================] - 38s 23ms/step - loss: 7.3956e-05 - accuracy: 1.0000 - val_loss: 7.3056e-07 - val_accuracy: 1.0000\n",
            "Epoch 15/100\n",
            "1655/1655 [==============================] - 37s 22ms/step - loss: 1.5858e-05 - accuracy: 1.0000 - val_loss: 2.5959e-07 - val_accuracy: 1.0000\n",
            "Epoch 16/100\n",
            "1655/1655 [==============================] - 36s 22ms/step - loss: 7.3480e-06 - accuracy: 1.0000 - val_loss: 1.3326e-07 - val_accuracy: 1.0000\n",
            "Epoch 17/100\n",
            "1655/1655 [==============================] - 36s 22ms/step - loss: 0.0011 - accuracy: 0.9998 - val_loss: 2.1669e-07 - val_accuracy: 1.0000\n",
            "Epoch 18/100\n",
            "1655/1655 [==============================] - 37s 23ms/step - loss: 2.1233e-04 - accuracy: 1.0000 - val_loss: 4.2828e-07 - val_accuracy: 1.0000\n",
            "Epoch 19/100\n",
            "1655/1655 [==============================] - 38s 23ms/step - loss: 1.2908e-05 - accuracy: 1.0000 - val_loss: 1.8423e-07 - val_accuracy: 1.0000\n",
            "Epoch 20/100\n",
            "1655/1655 [==============================] - 37s 22ms/step - loss: 1.1532e-05 - accuracy: 1.0000 - val_loss: 1.3479e-07 - val_accuracy: 1.0000\n",
            "Epoch 21/100\n",
            "1655/1655 [==============================] - 37s 22ms/step - loss: 4.1704e-06 - accuracy: 1.0000 - val_loss: 4.2239e-08 - val_accuracy: 1.0000\n",
            "Epoch 22/100\n",
            "1655/1655 [==============================] - 36s 22ms/step - loss: 6.3132e-06 - accuracy: 1.0000 - val_loss: 8.7769e-07 - val_accuracy: 1.0000\n",
            "Epoch 23/100\n",
            "1655/1655 [==============================] - 37s 22ms/step - loss: 0.0014 - accuracy: 0.9998 - val_loss: 1.2484e-07 - val_accuracy: 1.0000\n",
            "Epoch 24/100\n",
            "1655/1655 [==============================] - 36s 22ms/step - loss: 5.6021e-04 - accuracy: 0.9999 - val_loss: 3.6776e-07 - val_accuracy: 1.0000\n",
            "Epoch 25/100\n",
            "1655/1655 [==============================] - 37s 22ms/step - loss: 7.7786e-06 - accuracy: 1.0000 - val_loss: 1.3638e-07 - val_accuracy: 1.0000\n",
            "Epoch 26/100\n",
            "1655/1655 [==============================] - 37s 22ms/step - loss: 1.3437e-05 - accuracy: 1.0000 - val_loss: 2.7264e-07 - val_accuracy: 1.0000\n",
            "Epoch 27/100\n",
            "1655/1655 [==============================] - 36s 22ms/step - loss: 8.0836e-06 - accuracy: 1.0000 - val_loss: 4.3522e-08 - val_accuracy: 1.0000\n",
            "Epoch 28/100\n",
            "1655/1655 [==============================] - 36s 22ms/step - loss: 2.1073e-06 - accuracy: 1.0000 - val_loss: 2.6126e-08 - val_accuracy: 1.0000\n",
            "Epoch 29/100\n",
            "1655/1655 [==============================] - 37s 22ms/step - loss: 0.0011 - accuracy: 0.9998 - val_loss: 2.9493e-07 - val_accuracy: 1.0000\n",
            "Epoch 30/100\n",
            "1655/1655 [==============================] - 38s 23ms/step - loss: 3.2770e-05 - accuracy: 1.0000 - val_loss: 5.3876e-08 - val_accuracy: 1.0000\n",
            "Epoch 31/100\n",
            "1655/1655 [==============================] - 38s 23ms/step - loss: 4.3553e-06 - accuracy: 1.0000 - val_loss: 3.1929e-08 - val_accuracy: 1.0000\n",
            "Epoch 32/100\n",
            "1655/1655 [==============================] - 37s 23ms/step - loss: 1.2761e-04 - accuracy: 1.0000 - val_loss: 6.8759e-08 - val_accuracy: 1.0000\n",
            "Epoch 33/100\n",
            "1655/1655 [==============================] - 37s 22ms/step - loss: 4.5394e-06 - accuracy: 1.0000 - val_loss: 3.5110e-08 - val_accuracy: 1.0000\n",
            "Epoch 34/100\n",
            "1655/1655 [==============================] - 37s 22ms/step - loss: 2.2424e-06 - accuracy: 1.0000 - val_loss: 2.5612e-08 - val_accuracy: 1.0000\n",
            "Epoch 35/100\n",
            "1655/1655 [==============================] - 37s 22ms/step - loss: 8.7029e-07 - accuracy: 1.0000 - val_loss: 1.6561e-08 - val_accuracy: 1.0000\n",
            "Epoch 36/100\n",
            "1655/1655 [==============================] - 37s 22ms/step - loss: 1.1040e-06 - accuracy: 1.0000 - val_loss: 1.3747e-08 - val_accuracy: 1.0000\n",
            "Epoch 37/100\n",
            "1655/1655 [==============================] - 38s 23ms/step - loss: 0.0013 - accuracy: 0.9998 - val_loss: 1.3673e-08 - val_accuracy: 1.0000\n",
            "Epoch 38/100\n",
            "1655/1655 [==============================] - 38s 23ms/step - loss: 5.3655e-06 - accuracy: 1.0000 - val_loss: 6.7730e-09 - val_accuracy: 1.0000\n",
            "Epoch 39/100\n",
            "1655/1655 [==============================] - 38s 23ms/step - loss: 1.3274e-04 - accuracy: 1.0000 - val_loss: 6.7691e-09 - val_accuracy: 1.0000\n",
            "Epoch 40/100\n",
            "1655/1655 [==============================] - 38s 23ms/step - loss: 4.9775e-06 - accuracy: 1.0000 - val_loss: 2.4911e-08 - val_accuracy: 1.0000\n",
            "Epoch 41/100\n",
            "1655/1655 [==============================] - 38s 23ms/step - loss: 1.2925e-06 - accuracy: 1.0000 - val_loss: 9.9148e-09 - val_accuracy: 1.0000\n",
            "Epoch 42/100\n",
            "1655/1655 [==============================] - 38s 23ms/step - loss: 2.1625e-06 - accuracy: 1.0000 - val_loss: 4.2503e-09 - val_accuracy: 1.0000\n",
            "Epoch 43/100\n",
            "1655/1655 [==============================] - 37s 23ms/step - loss: 3.8672e-06 - accuracy: 1.0000 - val_loss: 8.6171e-09 - val_accuracy: 1.0000\n",
            "Epoch 44/100\n",
            "1655/1655 [==============================] - 38s 23ms/step - loss: 1.0651e-04 - accuracy: 1.0000 - val_loss: 2.6880e-08 - val_accuracy: 1.0000\n",
            "Epoch 45/100\n",
            "1655/1655 [==============================] - 38s 23ms/step - loss: 4.2665e-04 - accuracy: 0.9999 - val_loss: 1.5452e-07 - val_accuracy: 1.0000\n",
            "Epoch 46/100\n",
            "1655/1655 [==============================] - 38s 23ms/step - loss: 5.5211e-06 - accuracy: 1.0000 - val_loss: 6.4284e-07 - val_accuracy: 1.0000\n",
            "Epoch 47/100\n",
            "1655/1655 [==============================] - 37s 22ms/step - loss: 1.2329e-04 - accuracy: 1.0000 - val_loss: 1.2487e-09 - val_accuracy: 1.0000\n",
            "Epoch 48/100\n",
            "1655/1655 [==============================] - 37s 23ms/step - loss: 2.1684e-05 - accuracy: 1.0000 - val_loss: 3.8555e-09 - val_accuracy: 1.0000\n",
            "Epoch 49/100\n",
            "1655/1655 [==============================] - 38s 23ms/step - loss: 4.6402e-06 - accuracy: 1.0000 - val_loss: 2.3167e-09 - val_accuracy: 1.0000\n",
            "Epoch 50/100\n",
            "1655/1655 [==============================] - 37s 23ms/step - loss: 7.2236e-07 - accuracy: 1.0000 - val_loss: 1.8495e-09 - val_accuracy: 1.0000\n",
            "Epoch 51/100\n",
            "1655/1655 [==============================] - 37s 22ms/step - loss: 1.0854e-06 - accuracy: 1.0000 - val_loss: 1.9313e-09 - val_accuracy: 1.0000\n",
            "Epoch 52/100\n",
            "1655/1655 [==============================] - 37s 22ms/step - loss: 6.0235e-07 - accuracy: 1.0000 - val_loss: 5.7292e-10 - val_accuracy: 1.0000\n",
            "Epoch 53/100\n",
            "1655/1655 [==============================] - 38s 23ms/step - loss: 6.3119e-04 - accuracy: 1.0000 - val_loss: 2.6402e-06 - val_accuracy: 1.0000\n",
            "Epoch 54/100\n",
            "1655/1655 [==============================] - 37s 23ms/step - loss: 1.4335e-05 - accuracy: 1.0000 - val_loss: 3.6680e-08 - val_accuracy: 1.0000\n",
            "Epoch 55/100\n",
            "1655/1655 [==============================] - 38s 23ms/step - loss: 1.8153e-06 - accuracy: 1.0000 - val_loss: 2.4031e-07 - val_accuracy: 1.0000\n",
            "Epoch 56/100\n",
            "1655/1655 [==============================] - 37s 22ms/step - loss: 1.8403e-06 - accuracy: 1.0000 - val_loss: 6.4318e-08 - val_accuracy: 1.0000\n",
            "Epoch 57/100\n",
            "1655/1655 [==============================] - 37s 22ms/step - loss: 5.4672e-07 - accuracy: 1.0000 - val_loss: 1.4018e-08 - val_accuracy: 1.0000\n",
            "Epoch 58/100\n",
            "1655/1655 [==============================] - 37s 22ms/step - loss: 1.0230e-06 - accuracy: 1.0000 - val_loss: 2.1665e-09 - val_accuracy: 1.0000\n",
            "Epoch 59/100\n",
            "1655/1655 [==============================] - 37s 22ms/step - loss: 3.9948e-07 - accuracy: 1.0000 - val_loss: 1.9903e-09 - val_accuracy: 1.0000\n",
            "Epoch 60/100\n",
            "1655/1655 [==============================] - 37s 22ms/step - loss: 3.0116e-07 - accuracy: 1.0000 - val_loss: 4.5250e-08 - val_accuracy: 1.0000\n",
            "Epoch 61/100\n",
            "1655/1655 [==============================] - 37s 22ms/step - loss: 1.4104e-07 - accuracy: 1.0000 - val_loss: 4.8295e-09 - val_accuracy: 1.0000\n",
            "Epoch 62/100\n",
            "1655/1655 [==============================] - 36s 22ms/step - loss: 9.3660e-08 - accuracy: 1.0000 - val_loss: 9.5633e-10 - val_accuracy: 1.0000\n",
            "Epoch 63/100\n",
            "1655/1655 [==============================] - 37s 22ms/step - loss: 4.9317e-08 - accuracy: 1.0000 - val_loss: 1.2357e-10 - val_accuracy: 1.0000\n",
            "Epoch 64/100\n",
            "1655/1655 [==============================] - 37s 22ms/step - loss: 2.1885e-04 - accuracy: 1.0000 - val_loss: 1.1148e-04 - val_accuracy: 1.0000\n",
            "Epoch 65/100\n",
            "1655/1655 [==============================] - 36s 22ms/step - loss: 1.1629e-06 - accuracy: 1.0000 - val_loss: 1.7243e-04 - val_accuracy: 1.0000\n",
            "Epoch 66/100\n",
            "1655/1655 [==============================] - 37s 22ms/step - loss: 4.0465e-06 - accuracy: 1.0000 - val_loss: 3.5701e-07 - val_accuracy: 1.0000\n",
            "Epoch 67/100\n",
            "1655/1655 [==============================] - 37s 22ms/step - loss: 7.0582e-04 - accuracy: 0.9999 - val_loss: 3.9561e-04 - val_accuracy: 1.0000\n",
            "Epoch 68/100\n",
            "1655/1655 [==============================] - 37s 22ms/step - loss: 1.6774e-04 - accuracy: 1.0000 - val_loss: 1.3280e-04 - val_accuracy: 1.0000\n",
            "Epoch 69/100\n",
            "1655/1655 [==============================] - 36s 22ms/step - loss: 1.8100e-06 - accuracy: 1.0000 - val_loss: 1.1731e-04 - val_accuracy: 1.0000\n",
            "Epoch 70/100\n",
            "1655/1655 [==============================] - 36s 22ms/step - loss: 1.1081e-06 - accuracy: 1.0000 - val_loss: 1.1270e-04 - val_accuracy: 1.0000\n",
            "Epoch 71/100\n",
            "1655/1655 [==============================] - 36s 22ms/step - loss: 8.6299e-07 - accuracy: 1.0000 - val_loss: 6.1636e-05 - val_accuracy: 1.0000\n",
            "Epoch 72/100\n",
            "1655/1655 [==============================] - 36s 22ms/step - loss: 3.7987e-07 - accuracy: 1.0000 - val_loss: 1.2126e-07 - val_accuracy: 1.0000\n",
            "Epoch 73/100\n",
            "1655/1655 [==============================] - 36s 22ms/step - loss: 1.2546e-05 - accuracy: 1.0000 - val_loss: 7.8331e-04 - val_accuracy: 0.9998\n",
            "Epoch 74/100\n",
            "1655/1655 [==============================] - 36s 22ms/step - loss: 4.9961e-04 - accuracy: 0.9999 - val_loss: 3.6110e-09 - val_accuracy: 1.0000\n",
            "Epoch 75/100\n",
            "1655/1655 [==============================] - 36s 22ms/step - loss: 2.1301e-06 - accuracy: 1.0000 - val_loss: 5.6116e-10 - val_accuracy: 1.0000\n",
            "Epoch 76/100\n",
            "1655/1655 [==============================] - 37s 22ms/step - loss: 3.8874e-06 - accuracy: 1.0000 - val_loss: 3.0456e-10 - val_accuracy: 1.0000\n",
            "Epoch 77/100\n",
            "1655/1655 [==============================] - 38s 23ms/step - loss: 2.3878e-07 - accuracy: 1.0000 - val_loss: 5.8608e-10 - val_accuracy: 1.0000\n",
            "Epoch 78/100\n",
            "1655/1655 [==============================] - 38s 23ms/step - loss: 1.1016e-07 - accuracy: 1.0000 - val_loss: 4.4576e-10 - val_accuracy: 1.0000\n",
            "Epoch 79/100\n",
            "1655/1655 [==============================] - 38s 23ms/step - loss: 1.2664e-07 - accuracy: 1.0000 - val_loss: 4.4478e-10 - val_accuracy: 1.0000\n",
            "Epoch 80/100\n",
            "1655/1655 [==============================] - 38s 23ms/step - loss: 2.1846e-07 - accuracy: 1.0000 - val_loss: 4.4499e-10 - val_accuracy: 1.0000\n",
            "Epoch 81/100\n",
            "1655/1655 [==============================] - 37s 23ms/step - loss: 1.7188e-07 - accuracy: 1.0000 - val_loss: 1.6519e-10 - val_accuracy: 1.0000\n",
            "Epoch 82/100\n",
            "1655/1655 [==============================] - 38s 23ms/step - loss: 1.4790e-04 - accuracy: 1.0000 - val_loss: 1.6576e-10 - val_accuracy: 1.0000\n",
            "Epoch 83/100\n",
            "1655/1655 [==============================] - 40s 24ms/step - loss: 2.0027e-07 - accuracy: 1.0000 - val_loss: 1.3407e-10 - val_accuracy: 1.0000\n",
            "Epoch 00083: early stopping\n"
          ]
        }
      ]
    },
    {
      "cell_type": "code",
      "metadata": {
        "colab": {
          "base_uri": "https://localhost:8080/"
        },
        "id": "gaqueL1mp3uR",
        "outputId": "5bb97abb-bae0-49e4-b0cb-e99a4299165a"
      },
      "source": [
        "df_final_new.info()"
      ],
      "execution_count": null,
      "outputs": [
        {
          "output_type": "stream",
          "name": "stdout",
          "text": [
            "<class 'pandas.core.frame.DataFrame'>\n",
            "Int64Index: 132394 entries, 0 to 132393\n",
            "Data columns (total 15 columns):\n",
            " #   Column                      Non-Null Count   Dtype         \n",
            "---  ------                      --------------   -----         \n",
            " 0   ORDER_ID                    132394 non-null  int64         \n",
            " 1   DE_ID                       132394 non-null  int64         \n",
            " 2   ASSIGNMENT_START_TIME       132394 non-null  datetime64[ns]\n",
            " 3   ASSIGNMENT_END_TIME         132394 non-null  object        \n",
            " 4   reject_type                 8048 non-null    object        \n",
            " 5   PLACED_TIME                 132394 non-null  object        \n",
            " 6   LASTMILE_DISTANCE           132394 non-null  float64       \n",
            " 7   FIRSTMILE_DISTANCE          132394 non-null  float64       \n",
            " 8   LAST_MILE_TIME_PREDICTED    132394 non-null  float64       \n",
            " 9   PAYOUT_MADE_TO_DE           132391 non-null  float64       \n",
            " 10  NUM_PING_COUNT_LAST10MIN    132394 non-null  int64         \n",
            " 11  LAST_PING_TIME_LAST10MIN    132394 non-null  object        \n",
            " 12  SHIFT_END_TIME              132394 non-null  object        \n",
            " 13  distance                    132394 non-null  float64       \n",
            " 14  ASSIGNMENT_START_TIME_time  132394 non-null  object        \n",
            "dtypes: datetime64[ns](1), float64(5), int64(3), object(6)\n",
            "memory usage: 16.2+ MB\n"
          ]
        }
      ]
    },
    {
      "cell_type": "code",
      "metadata": {
        "id": "TOgB_p7H62Oj",
        "colab": {
          "base_uri": "https://localhost:8080/"
        },
        "outputId": "760fe4cc-aac2-4dee-825a-24db227d6ca1"
      },
      "source": [
        "model.summary()"
      ],
      "execution_count": null,
      "outputs": [
        {
          "output_type": "stream",
          "name": "stdout",
          "text": [
            "Model: \"sequential_2\"\n",
            "_________________________________________________________________\n",
            "Layer (type)                 Output Shape              Param #   \n",
            "=================================================================\n",
            "dense_14 (Dense)             (None, 1024)              17408     \n",
            "_________________________________________________________________\n",
            "batch_normalization_6 (Batch (None, 1024)              4096      \n",
            "_________________________________________________________________\n",
            "dense_15 (Dense)             (None, 512)               524800    \n",
            "_________________________________________________________________\n",
            "dropout_6 (Dropout)          (None, 512)               0         \n",
            "_________________________________________________________________\n",
            "dense_16 (Dense)             (None, 256)               131328    \n",
            "_________________________________________________________________\n",
            "batch_normalization_7 (Batch (None, 256)               1024      \n",
            "_________________________________________________________________\n",
            "dense_17 (Dense)             (None, 128)               32896     \n",
            "_________________________________________________________________\n",
            "dropout_7 (Dropout)          (None, 128)               0         \n",
            "_________________________________________________________________\n",
            "dense_18 (Dense)             (None, 64)                8256      \n",
            "_________________________________________________________________\n",
            "dense_19 (Dense)             (None, 32)                2080      \n",
            "_________________________________________________________________\n",
            "dropout_8 (Dropout)          (None, 32)                0         \n",
            "_________________________________________________________________\n",
            "batch_normalization_8 (Batch (None, 32)                128       \n",
            "_________________________________________________________________\n",
            "dense_20 (Dense)             (None, 1)                 33        \n",
            "=================================================================\n",
            "Total params: 722,049\n",
            "Trainable params: 719,425\n",
            "Non-trainable params: 2,624\n",
            "_________________________________________________________________\n"
          ]
        }
      ]
    },
    {
      "cell_type": "code",
      "metadata": {
        "colab": {
          "base_uri": "https://localhost:8080/"
        },
        "id": "ucDxU55Aw2VT",
        "outputId": "7655337b-f5cc-4758-a732-325c76bb929d"
      },
      "source": [
        "df_assign.shape"
      ],
      "execution_count": null,
      "outputs": [
        {
          "output_type": "execute_result",
          "data": {
            "text/plain": [
              "(0, 21)"
            ]
          },
          "metadata": {},
          "execution_count": 16
        }
      ]
    },
    {
      "cell_type": "code",
      "metadata": {
        "id": "a-N8KRJt0Rm8"
      },
      "source": [
        ""
      ],
      "execution_count": null,
      "outputs": []
    }
  ]
}